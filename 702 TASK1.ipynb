{
 "cells": [
  {
   "cell_type": "markdown",
   "metadata": {
    "id": "Wu-K9T8png2z"
   },
   "source": [
    "# INM 702 Task 1\n",
    "## Faisal Mungi\n",
    "## faisal.mungi@city.ac.uk"
   ]
  },
  {
   "cell_type": "code",
   "execution_count": 33,
   "metadata": {
    "id": "Bbr7zEepGzDZ"
   },
   "outputs": [],
   "source": [
    "# method for visualizing path\n",
    "def plot_path(path):\n",
    "  a,b = zip(*path)\n",
    "  plt.plot(b,a)\n",
    "  plt.scatter(b,a, color = \"red\")\n",
    "  plt.gca().invert_yaxis()\n",
    "  plt.xticks(np.arange(len(grid[0])))\n",
    "  plt.grid()\n",
    "  plt.show()"
   ]
  },
  {
   "cell_type": "code",
   "execution_count": 34,
   "metadata": {
    "id": "nPsRu64oxPyg"
   },
   "outputs": [],
   "source": [
    "import pandas as pd\n",
    "\n",
    "# dataframe to store results\n",
    "\n",
    "results = pd.DataFrame(columns = ['Case','Heuristic M1', 'Heuristic M2','Dijkstra M1', 'Dijkstra M2'])\n",
    "\n"
   ]
  },
  {
   "cell_type": "code",
   "execution_count": 35,
   "metadata": {
    "colab": {
     "base_uri": "https://localhost:8080/"
    },
    "id": "P1Jp_Y8aQ2_Q",
    "outputId": "0b485faf-e621-40eb-bf0e-aee0e559f304"
   },
   "outputs": [
    {
     "name": "stdout",
     "output_type": "stream",
     "text": [
      "Number of Rows ->  6\n",
      "Number of Columns ->  14\n",
      "Generating random grid\n",
      "\n",
      " [[ 9  6  6 13  7 10  2 11  9  7 14  5  2 13]\n",
      " [ 8  6  8  6  7 12  9  5 13  3 13  3 11  8]\n",
      " [ 6  7 10 14  3 10  3 12  8  5  6  5 11 14]\n",
      " [ 2 14 10 11  7 13 14  5  4  6  6  7  8 14]\n",
      " [ 7 12  3  4 11  6 14  5 11 10  4  2 10  9]\n",
      " [ 9  7 12  5  6 13 13  4  8  9  8  4 13 13]]\n"
     ]
    }
   ],
   "source": [
    "#import random\n",
    "import matplotlib.pyplot as plt\n",
    "import numpy as np\n",
    "from numpy.random import default_rng\n",
    "rng = default_rng()\n",
    "\n",
    "\n",
    "\n",
    "class GenerateGrid:\n",
    "    def makegrid(self, mode, x1,y1):\n",
    "        np.random.seed(66)#44\n",
    "        x = np.random.randint(2,15)\n",
    "        y = np.random.randint(2,15)\n",
    "\n",
    "        if mode == 9:\n",
    "          x = x1\n",
    "          y = y1\n",
    "          val = np.random.randint(2,15, size = x*y)\n",
    "        if mode == 1:\n",
    "          np.random.seed(77)#88\n",
    "          val = np.random.randint(2,15, size = x*y)\n",
    "        elif mode == 2:\n",
    "          #using uniform distribution\n",
    "          ub = np.random.randint(10, 16)\n",
    "          lb = np.random.randint(1, 5)\n",
    "          val = np.random.uniform(lb, ub, size = x*y)\n",
    "          val = np.round(val,1)\n",
    "        elif mode == 3:\n",
    "          #using Poisson distribution\n",
    "          num = np.random.randint(5,15)\n",
    "          val = np.random.poisson(lam = num, size = x*y)\n",
    "        elif mode == 4:\n",
    "          #using binomial distribution\n",
    "          num = np.random.randint(5,10)\n",
    "          prob = np.random.rand()\n",
    "          val = np.random.binomial(n = num, p = prob, size = x*y)\n",
    "        \n",
    "        val = np.reshape(val,(x,y))\n",
    "        \n",
    "        return val\n",
    "    \n",
    "    def printgrid(self, grid):\n",
    "        g1 = \" _______\" * len(grid[0])\n",
    "        for i in range(len(grid)):\n",
    "            print(g1)\n",
    "            for j in range(len(grid[0])):\n",
    "                print(\"|  {}\\t\".format(grid[i][j]),end = '')\n",
    "            print(\"|\")\n",
    "        print(g1)\n",
    "\n",
    "        \n",
    "        \n",
    "class Navigate:\n",
    "    def simpleappr(self,grid, mode):\n",
    "        x = len(grid)-1\n",
    "        y = len(grid[0])-1\n",
    "        path = []\n",
    "        flag = True\n",
    "        i=0\n",
    "        j=0\n",
    "        #curr_pos = (i,j)\n",
    "        cost = 0\n",
    "        path.append((i,j))\n",
    "        # only selecting from moving right or down where possible\n",
    "        while (flag):\n",
    "\n",
    "            if i < x:\n",
    "              if mode:\n",
    "                down1 = grid[i+1][j]\n",
    "              else:\n",
    "                down1 = abs(grid[i+1][j] - grid[i][j])\n",
    "\n",
    "            else: down1 = 10000\n",
    "            if j < y:\n",
    "              if mode:\n",
    "                right1 = grid[i][j+1]\n",
    "              else:\n",
    "                right1 = abs(grid[i][j+1] - grid[i][j])\n",
    "            else: right1 = 10000\n",
    "\n",
    "            if down1 < right1:\n",
    "              i = i+1\n",
    "              if not mode:\n",
    "                cost += down1\n",
    "\n",
    "            else: \n",
    "              j = j+1\n",
    "              if not mode:\n",
    "                cost += right1\n",
    "            path.append((i,j))\n",
    "            if mode:\n",
    "              cost += grid[i][j]\n",
    "            if (i==x and j == y):\n",
    "                flag = False\n",
    "        \n",
    "        return path, cost\n",
    "       \n",
    "        \n",
    "gengrid = GenerateGrid()\n",
    "grid = gengrid.makegrid(1,0,0)\n",
    "\n",
    "print(\"Number of Rows -> \",len(grid))\n",
    "print(\"Number of Columns -> \",len(grid[0]))\n",
    "\n",
    "print(\"Generating random grid\\n\\n\",grid)\n",
    "\n",
    "\n"
   ]
  },
  {
   "cell_type": "code",
   "execution_count": 36,
   "metadata": {
    "colab": {
     "base_uri": "https://localhost:8080/"
    },
    "id": "QDMfmhEVRjOn",
    "outputId": "b358dcc9-ea28-4b94-a9d9-1c3787d6840f",
    "scrolled": true
   },
   "outputs": [
    {
     "name": "stdout",
     "output_type": "stream",
     "text": [
      "\n",
      "Visualizing Grid\n",
      "\n",
      " _______ _______ _______ _______ _______ _______ _______ _______ _______ _______ _______ _______ _______ _______\n",
      "|  9\t|  6\t|  6\t|  13\t|  7\t|  10\t|  2\t|  11\t|  9\t|  7\t|  14\t|  5\t|  2\t|  13\t|\n",
      " _______ _______ _______ _______ _______ _______ _______ _______ _______ _______ _______ _______ _______ _______\n",
      "|  8\t|  6\t|  8\t|  6\t|  7\t|  12\t|  9\t|  5\t|  13\t|  3\t|  13\t|  3\t|  11\t|  8\t|\n",
      " _______ _______ _______ _______ _______ _______ _______ _______ _______ _______ _______ _______ _______ _______\n",
      "|  6\t|  7\t|  10\t|  14\t|  3\t|  10\t|  3\t|  12\t|  8\t|  5\t|  6\t|  5\t|  11\t|  14\t|\n",
      " _______ _______ _______ _______ _______ _______ _______ _______ _______ _______ _______ _______ _______ _______\n",
      "|  2\t|  14\t|  10\t|  11\t|  7\t|  13\t|  14\t|  5\t|  4\t|  6\t|  6\t|  7\t|  8\t|  14\t|\n",
      " _______ _______ _______ _______ _______ _______ _______ _______ _______ _______ _______ _______ _______ _______\n",
      "|  7\t|  12\t|  3\t|  4\t|  11\t|  6\t|  14\t|  5\t|  11\t|  10\t|  4\t|  2\t|  10\t|  9\t|\n",
      " _______ _______ _______ _______ _______ _______ _______ _______ _______ _______ _______ _______ _______ _______\n",
      "|  9\t|  7\t|  12\t|  5\t|  6\t|  13\t|  13\t|  4\t|  8\t|  9\t|  8\t|  4\t|  13\t|  13\t|\n",
      " _______ _______ _______ _______ _______ _______ _______ _______ _______ _______ _______ _______ _______ _______\n"
     ]
    }
   ],
   "source": [
    "#Visualizing Grid\n",
    "print(\"\\nVisualizing Grid\\n\")\n",
    "gengrid.printgrid(grid)\n"
   ]
  },
  {
   "cell_type": "code",
   "execution_count": 37,
   "metadata": {
    "colab": {
     "base_uri": "https://localhost:8080/",
     "height": 455
    },
    "id": "WyCgG-nGRzTO",
    "outputId": "763a8ce9-548a-4427-e9c3-08fd831dd64f"
   },
   "outputs": [
    {
     "name": "stdout",
     "output_type": "stream",
     "text": [
      "\n",
      "\n",
      "HEURSISTIC APPROACH \n",
      "\n",
      "\n",
      "MODE 1\n",
      "Path taken ->  [(0, 0), (0, 1), (0, 2), (1, 2), (1, 3), (1, 4), (2, 4), (3, 4), (4, 4), (4, 5), (5, 5), (5, 6), (5, 7), (5, 8), (5, 9), (5, 10), (5, 11), (5, 12), (5, 13)]\n",
      "\n",
      "The cost to reach goal is ->  145\n",
      "Visualizing Path taken \n"
     ]
    },
    {
     "data": {
      "image/png": "[encoded data removed]",
      "text/plain": [
       "<Figure size 432x288 with 1 Axes>"
      ]
     },
     "metadata": {
      "needs_background": "light"
     },
     "output_type": "display_data"
    }
   ],
   "source": [
    "#Heuristic Mode1\n",
    "nav = Navigate()\n",
    "path, cost1 = nav.simpleappr(grid,True)\n",
    "\n",
    "print(\"\\n\\nHEURSISTIC APPROACH \\n\\n\\nMODE 1\\nPath taken -> \",path)\n",
    "print(\"\\nThe cost to reach goal is -> \",cost1)\n",
    "print(\"Visualizing Path taken \")\n",
    "plot_path(path)\n"
   ]
  },
  {
   "cell_type": "code",
   "execution_count": 38,
   "metadata": {
    "colab": {
     "base_uri": "https://localhost:8080/",
     "height": 438
    },
    "id": "uj6rYEv8R-F4",
    "outputId": "eddb9e50-9478-420b-fc04-e147631b06d4"
   },
   "outputs": [
    {
     "name": "stdout",
     "output_type": "stream",
     "text": [
      "\n",
      "HEURISTIC APPROACH\n",
      "\n",
      "\n",
      "MODE 2\n",
      "Path taken ->  [(0, 0), (1, 0), (1, 1), (2, 1), (2, 2), (3, 2), (3, 3), (3, 4), (4, 4), (4, 5), (5, 5), (5, 6), (5, 7), (5, 8), (5, 9), (5, 10), (5, 11), (5, 12), (5, 13)]\n",
      "\n",
      "The cost to reach goal is ->  56\n",
      "Visualizing Path taken \n"
     ]
    },
    {
     "data": {
      "image/png": "[encoded data removed]",
      "text/plain": [
       "<Figure size 432x288 with 1 Axes>"
      ]
     },
     "metadata": {
      "needs_background": "light"
     },
     "output_type": "display_data"
    }
   ],
   "source": [
    "#Heuristic Mode2\n",
    "\n",
    "path, cost2 = nav.simpleappr(grid,False)\n",
    "\n",
    "print(\"\\nHEURISTIC APPROACH\\n\\n\\nMODE 2\\nPath taken -> \",path)\n",
    "print(\"\\nThe cost to reach goal is -> \",cost2)\n",
    "print(\"Visualizing Path taken \")\n",
    "plot_path(path)"
   ]
  },
  {
   "cell_type": "code",
   "execution_count": 39,
   "metadata": {
    "colab": {
     "base_uri": "https://localhost:8080/"
    },
    "id": "Qy0nF41DQ88O",
    "outputId": "e09f3a3c-a336-4f74-f579-bdc5311b85c8"
   },
   "outputs": [
    {
     "name": "stdout",
     "output_type": "stream",
     "text": [
      "Number of Rows ->  6\n",
      "Number of Columns ->  14\n"
     ]
    }
   ],
   "source": [
    "import heapq\n",
    "\n",
    "class Dijkstra:\n",
    "    \n",
    "        \n",
    "    \n",
    "    def shortpath(self, grid, mode):\n",
    "        x = len(grid)-1\n",
    "        y = len(grid[0])-1\n",
    "        #print(\"val of y \",y)\n",
    "        visited = np.zeros((x+1,y+1))\n",
    "        check = np.ones((x+1,y+1))\n",
    "        \n",
    "        dist = np.zeros((x+1,y+1))\n",
    "        visited[0][0] = 1\n",
    "        #print(visited)\n",
    "        dist[0][0] = 0\n",
    "        prevloc = {}\n",
    "        \n",
    "        i = j = 0\n",
    "        path = []\n",
    "        hq = []\n",
    "        #print(type(i))\n",
    "        #checkadj(grid,i,j)\n",
    "        #if (i<x):\n",
    "        flag = True\n",
    "        # mode is to select the game mode 1 or 2\n",
    "        while (flag):\n",
    "            if(i<x): # checking for cell in next row\n",
    "                if (visited[i+1][j] == 0): # if the cell hasnt been visited earlier\n",
    "                    \n",
    "                    visited[i+1][j] = 1\n",
    "                    if(mode):\n",
    "                      dist[i+1][j] = dist[i][j] + grid[i+1][j]\n",
    "                    #                   dist        cell pos\n",
    "                    else: \n",
    "                      dist[i+1][j] = dist[i][j] + abs(grid[i][j] - grid[i+1][j])\n",
    "                    \n",
    "                    heapq.heappush(hq,(dist[i+1][j],(i+1,j) ) )\n",
    "                    #           next loc   prev cell (coming from)\n",
    "                    prevloc[(i+1,j)] = [i,j]\n",
    "                else: # if the cell was visited earlier. check previous distance from start and current distance, if better then update\n",
    "                    #a,b = prevloc[(i+1,j)]\n",
    "                    #dis1 = dist[a][b]\n",
    "                    if(mode):\n",
    "                      ds = dist[i][j] + grid[i+1][j]\n",
    "                    else:\n",
    "                      ds = dist[i][j] + abs(grid[i][j] - grid[i+1][j])\n",
    "                    if ds < dist[i+1][j]:\n",
    "                        dist[i+1][j] = ds\n",
    "                        prevloc[(i+1,j)] = [i,j]\n",
    "            \n",
    "            if (i>0):\n",
    "                if (visited[i-1][j]!=1):\n",
    "                    \n",
    "                    visited[i-1][j] = 1\n",
    "                    if(mode):\n",
    "                      dist[i-1][j] = dist[i][j] + grid[i-1][j]\n",
    "                    #                   dist        cell pos\n",
    "                    else:\n",
    "                      dist[i-1][j] = dist[i][j] + abs(grid[i][j] - grid[i-1][j])\n",
    "                    heapq.heappush(hq,(dist[i-1][j],(i-1,j) ) )\n",
    "                    #        next loc   prev cell (coming from)\n",
    "                    prevloc[(i-1,j)] = [i,j]\n",
    "                else:\n",
    "                    #a,b = prevloc[(i+1,j)]\n",
    "                    #dis1 = dist[a][b]\n",
    "                    if(mode):\n",
    "                      ds = dist[i][j] + grid[i-1][j]\n",
    "                    else:\n",
    "                      ds = dist[i][j] + abs(grid[i][j] - grid[i-1][j])\n",
    "                    if ds < dist[i-1][j]:\n",
    "                        dist[i-1][j] = ds\n",
    "                        prevloc[(i-1,j)] = [i,j]\n",
    "                \n",
    "            if (j<y):\n",
    "                #print(i,\" & \",j)\n",
    "                if (visited[i][j+1]!=1):\n",
    "                    \n",
    "                    visited[i][j+1] = 1\n",
    "                    if(mode):\n",
    "                      dist[i][j+1] = dist[i][j] + grid[i][j+1]\n",
    "                    #                   dist        cell pos\n",
    "                    else:\n",
    "                      dist[i][j+1] = dist[i][j] + abs(grid[i][j] - grid[i][j+1])\n",
    "                    heapq.heappush(hq,(dist[i][j+1],(i,j+1) ) )\n",
    "                    #        next loc   prev cell (coming from)\n",
    "                    prevloc[(i,j+1)] = [i,j]\n",
    "                else:\n",
    "                    #a,b = prevloc[(i+1,j)]\n",
    "                    #dis1 = dist[a][b]\n",
    "                    if(mode):\n",
    "                      ds = dist[i][j] + grid[i][j+1]\n",
    "                    else:\n",
    "                      ds = dist[i][j] + abs(grid[i][j] - grid[i][j+1])\n",
    "                    if ds < dist[i][j+1]:\n",
    "                        dist[i][j+1] = ds\n",
    "                        prevloc[(i,j+1)] = [i,j]\n",
    "            \n",
    "            \n",
    "            if (j>0):\n",
    "                if (visited[i][j-1]!=1):\n",
    "                    \n",
    "                    visited[i][j-1] = 1\n",
    "                    if (mode):\n",
    "                      dist[i][j-1] = dist[i][j] + grid[i][j-1]\n",
    "                    #                   dist        cell pos\n",
    "                    else:\n",
    "                      dist[i][j-1] = dist[i][j] + abs(grid[i][j] - grid[i][j-1])\n",
    "                    heapq.heappush(hq,(dist[i][j-1],(i,j-1) ) )\n",
    "                    #        next loc   prev cell (coming from)\n",
    "                    prevloc[(i,j-1)] = [i,j]\n",
    "                else:\n",
    "                    #a,b = prevloc[(i+1,j)]\n",
    "                    #dis1 = dist[a][b]\n",
    "                    if (mode):\n",
    "                      ds = dist[i][j] + grid[i][j-1]\n",
    "                    else:\n",
    "                      ds = dist[i][j] + abs(grid[i][j] - grid[i][j-1])\n",
    "                    if ds < dist[i][j-1]:\n",
    "                        dist[i][j-1] = ds\n",
    "                        prevloc[(i,j-1)] = [i,j]\n",
    "            \n",
    "            #print(dist)\n",
    "            heapq.heapify(hq)\n",
    "            if hq:\n",
    "                val = heapq.heappop(hq)\n",
    "                i,j = val[1]\n",
    "            \n",
    "            # if goal is reached exit the loop\n",
    "            if (i == len(grid) and j == len(grid[0])):\n",
    "                flag = False\n",
    "            # if all cells have been visited, exit loop\n",
    "            if (np.array_equal(check, visited)):\n",
    "              flag = False\n",
    "        #print(prevloc)\n",
    "\n",
    "        #path = []\n",
    "        path.append((x,y))\n",
    "        #print(path)\n",
    "        i = x\n",
    "        j = y\n",
    "        flag = True\n",
    "        while (flag):\n",
    "          #print(path)\n",
    "          if (i==0 and j == 0):\n",
    "            flag = False\n",
    "            continue\n",
    "          a,b = prevloc[(i,j)]\n",
    "          path.append((a,b))\n",
    "          \n",
    "          i = a\n",
    "          j = b\n",
    "        # reversing the path from the final cell to the initial cell using the data in prevloc\n",
    "        #path = path.reverse()\n",
    "        #print(path.reverse())\n",
    "        path.reverse()\n",
    "        #print(path)\n",
    "        \n",
    "        #print(\"The cost of taking the Shortest Path Using Dijkstra's Algo is \",dist[x][y])\n",
    "\n",
    "        return prevloc, path, dist[x][y]\n",
    "            \n",
    "print(\"Number of Rows -> \",len(grid))\n",
    "print(\"Number of Columns -> \",len(grid[0]))\n"
   ]
  },
  {
   "cell_type": "code",
   "execution_count": 40,
   "metadata": {
    "colab": {
     "base_uri": "https://localhost:8080/",
     "height": 489
    },
    "id": "j8pbjNUbQgcW",
    "outputId": "42fee0c6-5d46-491a-8647-e2c6641a3993"
   },
   "outputs": [
    {
     "name": "stdout",
     "output_type": "stream",
     "text": [
      "\n",
      " DIJKSTRA's ALGORITHM\n",
      "\n",
      "\n",
      "MODE 1\n",
      "\n",
      "Path Taken ->  [(0, 0), (0, 1), (0, 2), (1, 2), (1, 3), (1, 4), (2, 4), (2, 5), (2, 6), (2, 7), (3, 7), (3, 8), (3, 9), (3, 10), (4, 10), (4, 11), (5, 11), (5, 12), (5, 13)]\n",
      "\n",
      "The cost to reach goal is ->  118.0\n",
      "\n",
      "Visualizing Path \n",
      "\n"
     ]
    },
    {
     "data": {
      "image/png": "[encoded data removed]",
      "text/plain": [
       "<Figure size 432x288 with 1 Axes>"
      ]
     },
     "metadata": {
      "needs_background": "light"
     },
     "output_type": "display_data"
    }
   ],
   "source": [
    "dij = Dijkstra()\n",
    "#mode = True for Game mode 1; = False for Game mode 2\n",
    "prevloc, path, cost3 = dij.shortpath(grid, True)\n",
    "print(\"\\n DIJKSTRA's ALGORITHM\\n\\n\\nMODE 1\\n\\nPath Taken -> \", path)\n",
    "print(\"\\nThe cost to reach goal is -> \", cost3)\n",
    "print(\"\\nVisualizing Path \\n\")\n",
    "plot_path(path)\n",
    "#print(prevloc)"
   ]
  },
  {
   "cell_type": "code",
   "execution_count": 41,
   "metadata": {
    "colab": {
     "base_uri": "https://localhost:8080/",
     "height": 489
    },
    "id": "pzXAPmW4AQRh",
    "outputId": "a4a44e38-682c-4138-a59f-f5b865c8ffed"
   },
   "outputs": [
    {
     "name": "stdout",
     "output_type": "stream",
     "text": [
      "\n",
      " DIJKSTRA's ALGORITHM\n",
      "\n",
      "\n",
      "MODE 2\n",
      "\n",
      "Path Taken ->  [(0, 0), (1, 0), (1, 1), (2, 1), (2, 2), (3, 2), (3, 3), (3, 4), (3, 5), (3, 6), (3, 7), (3, 8), (3, 9), (3, 10), (3, 11), (3, 12), (4, 12), (5, 12), (5, 13)]\n",
      "\n",
      "The cost to reach goal is ->  38.0\n",
      "\n",
      "Visualizing Path \n",
      "\n"
     ]
    },
    {
     "data": {
      "image/png": "[encoded data removed]",
      "text/plain": [
       "<Figure size 432x288 with 1 Axes>"
      ]
     },
     "metadata": {
      "needs_background": "light"
     },
     "output_type": "display_data"
    }
   ],
   "source": [
    "prevloc, path, cost4 = dij.shortpath(grid, False)\n",
    "print(\"\\n DIJKSTRA's ALGORITHM\\n\\n\\nMODE 2\\n\\nPath Taken -> \", path)\n",
    "print(\"\\nThe cost to reach goal is -> \", cost4)\n",
    "print(\"\\nVisualizing Path \\n\")\n",
    "plot_path(path)\n"
   ]
  }
 ],
 "metadata": {
  "colab": {
   "collapsed_sections": [],
   "name": "702 t1.ipynb",
   "provenance": []
  },
  "kernelspec": {
   "display_name": "Python 3",
   "language": "python",
   "name": "python3"
  },
  "language_info": {
   "codemirror_mode": {
    "name": "ipython",
    "version": 3
   },
   "file_extension": ".py",
   "mimetype": "text/x-python",
   "name": "python",
   "nbconvert_exporter": "python",
   "pygments_lexer": "ipython3",
   "version": "3.8.8"
  }
 },
 "nbformat": 4,
 "nbformat_minor": 1
}
