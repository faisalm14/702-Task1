{
  "cells": [
    {
      "cell_type": "markdown",
      "source": [
        "# INM 702 Task 1\n",
        "## Faisal Mungi\n",
        "## faisal.mungi@city.ac.uk"
      ],
      "metadata": {
        "id": "Wu-K9T8png2z"
      }
    },
    {
      "cell_type": "code",
      "execution_count": 33,
      "metadata": {
        "id": "Bbr7zEepGzDZ"
      },
      "outputs": [],
      "source": [
        "# method for visualizing path\n",
        "def plot_path(path):\n",
        "  a,b = zip(*path)\n",
        "  plt.plot(b,a)\n",
        "  plt.scatter(b,a, color = \"red\")\n",
        "  plt.gca().invert_yaxis()\n",
        "  plt.xticks(np.arange(len(grid[0])))\n",
        "  plt.grid()\n",
        "  plt.show()"
      ]
    },
    {
      "cell_type": "code",
      "execution_count": 34,
      "metadata": {
        "id": "nPsRu64oxPyg"
      },
      "outputs": [],
      "source": [
        "import pandas as pd\n",
        "\n",
        "# dataframe to store results\n",
        "\n",
        "results = pd.DataFrame(columns = ['Case','Heuristic M1', 'Heuristic M2','Dijkstra M1', 'Dijkstra M2'])\n",
        "\n"
      ]
    },
    {
      "cell_type": "code",
      "execution_count": 35,
      "metadata": {
        "colab": {
          "base_uri": "https://localhost:8080/"
        },
        "id": "P1Jp_Y8aQ2_Q",
        "outputId": "0b485faf-e621-40eb-bf0e-aee0e559f304"
      },
      "outputs": [
        {
          "output_type": "stream",
          "name": "stdout",
          "text": [
            "Number of Rows ->  6\n",
            "Number of Columns ->  14\n",
            "Generating random grid\n",
            "\n",
            " [[ 9  6  6 13  7 10  2 11  9  7 14  5  2 13]\n",
            " [ 8  6  8  6  7 12  9  5 13  3 13  3 11  8]\n",
            " [ 6  7 10 14  3 10  3 12  8  5  6  5 11 14]\n",
            " [ 2 14 10 11  7 13 14  5  4  6  6  7  8 14]\n",
            " [ 7 12  3  4 11  6 14  5 11 10  4  2 10  9]\n",
            " [ 9  7 12  5  6 13 13  4  8  9  8  4 13 13]]\n"
          ]
        }
      ],
      "source": [
        "#import random\n",
        "import matplotlib.pyplot as plt\n",
        "import numpy as np\n",
        "from numpy.random import default_rng\n",
        "rng = default_rng()\n",
        "\n",
        "\n",
        "\n",
        "class GenerateGrid:\n",
        "    def makegrid(self, mode, x1,y1):\n",
        "        np.random.seed(66)#44\n",
        "        x = np.random.randint(2,15)\n",
        "        y = np.random.randint(2,15)\n",
        "\n",
        "        if mode == 9:\n",
        "          x = x1\n",
        "          y = y1\n",
        "          val = np.random.randint(2,15, size = x*y)\n",
        "        if mode == 1:\n",
        "          np.random.seed(77)#88\n",
        "          val = np.random.randint(2,15, size = x*y)\n",
        "        elif mode == 2:\n",
        "          #using uniform distribution\n",
        "          ub = np.random.randint(10, 16)\n",
        "          lb = np.random.randint(1, 5)\n",
        "          val = np.random.uniform(lb, ub, size = x*y)\n",
        "          val = np.round(val,1)\n",
        "        elif mode == 3:\n",
        "          #using Poisson distribution\n",
        "          num = np.random.randint(5,15)\n",
        "          val = np.random.poisson(lam = num, size = x*y)\n",
        "        elif mode == 4:\n",
        "          #using binomial distribution\n",
        "          num = np.random.randint(5,10)\n",
        "          prob = np.random.rand()\n",
        "          val = np.random.binomial(n = num, p = prob, size = x*y)\n",
        "        \n",
        "        val = np.reshape(val,(x,y))\n",
        "        \n",
        "        return val\n",
        "    \n",
        "    def printgrid(self, grid):\n",
        "        g1 = \" _______\" * len(grid[0])\n",
        "        for i in range(len(grid)):\n",
        "            print(g1)\n",
        "            for j in range(len(grid[0])):\n",
        "                print(\"|  {}\\t\".format(grid[i][j]),end = '')\n",
        "            print(\"|\")\n",
        "        print(g1)\n",
        "\n",
        "        \n",
        "        \n",
        "class Navigate:\n",
        "    def simpleappr(self,grid, mode):\n",
        "        x = len(grid)-1\n",
        "        y = len(grid[0])-1\n",
        "        path = []\n",
        "        flag = True\n",
        "        i=0\n",
        "        j=0\n",
        "        #curr_pos = (i,j)\n",
        "        cost = 0\n",
        "        path.append((i,j))\n",
        "        # only selecting from moving right or down where possible\n",
        "        while (flag):\n",
        "\n",
        "            if i < x:\n",
        "              if mode:\n",
        "                down1 = grid[i+1][j]\n",
        "              else:\n",
        "                down1 = abs(grid[i+1][j] - grid[i][j])\n",
        "\n",
        "            else: down1 = 10000\n",
        "            if j < y:\n",
        "              if mode:\n",
        "                right1 = grid[i][j+1]\n",
        "              else:\n",
        "                right1 = abs(grid[i][j+1] - grid[i][j])\n",
        "            else: right1 = 10000\n",
        "\n",
        "            if down1 < right1:\n",
        "              i = i+1\n",
        "              if not mode:\n",
        "                cost += down1\n",
        "\n",
        "            else: \n",
        "              j = j+1\n",
        "              if not mode:\n",
        "                cost += right1\n",
        "            path.append((i,j))\n",
        "            if mode:\n",
        "              cost += grid[i][j]\n",
        "            if (i==x and j == y):\n",
        "                flag = False\n",
        "        \n",
        "        return path, cost\n",
        "       \n",
        "        \n",
        "gengrid = GenerateGrid()\n",
        "grid = gengrid.makegrid(1,0,0)\n",
        "\n",
        "print(\"Number of Rows -> \",len(grid))\n",
        "print(\"Number of Columns -> \",len(grid[0]))\n",
        "\n",
        "print(\"Generating random grid\\n\\n\",grid)\n",
        "\n",
        "\n"
      ]
    },
    {
      "cell_type": "code",
      "execution_count": 36,
      "metadata": {
        "colab": {
          "base_uri": "https://localhost:8080/"
        },
        "id": "QDMfmhEVRjOn",
        "outputId": "b358dcc9-ea28-4b94-a9d9-1c3787d6840f"
      },
      "outputs": [
        {
          "output_type": "stream",
          "name": "stdout",
          "text": [
            "\n",
            "Visualizing Grid\n",
            "\n",
            " _______ _______ _______ _______ _______ _______ _______ _______ _______ _______ _______ _______ _______ _______\n",
            "|  9\t|  6\t|  6\t|  13\t|  7\t|  10\t|  2\t|  11\t|  9\t|  7\t|  14\t|  5\t|  2\t|  13\t|\n",
            " _______ _______ _______ _______ _______ _______ _______ _______ _______ _______ _______ _______ _______ _______\n",
            "|  8\t|  6\t|  8\t|  6\t|  7\t|  12\t|  9\t|  5\t|  13\t|  3\t|  13\t|  3\t|  11\t|  8\t|\n",
            " _______ _______ _______ _______ _______ _______ _______ _______ _______ _______ _______ _______ _______ _______\n",
            "|  6\t|  7\t|  10\t|  14\t|  3\t|  10\t|  3\t|  12\t|  8\t|  5\t|  6\t|  5\t|  11\t|  14\t|\n",
            " _______ _______ _______ _______ _______ _______ _______ _______ _______ _______ _______ _______ _______ _______\n",
            "|  2\t|  14\t|  10\t|  11\t|  7\t|  13\t|  14\t|  5\t|  4\t|  6\t|  6\t|  7\t|  8\t|  14\t|\n",
            " _______ _______ _______ _______ _______ _______ _______ _______ _______ _______ _______ _______ _______ _______\n",
            "|  7\t|  12\t|  3\t|  4\t|  11\t|  6\t|  14\t|  5\t|  11\t|  10\t|  4\t|  2\t|  10\t|  9\t|\n",
            " _______ _______ _______ _______ _______ _______ _______ _______ _______ _______ _______ _______ _______ _______\n",
            "|  9\t|  7\t|  12\t|  5\t|  6\t|  13\t|  13\t|  4\t|  8\t|  9\t|  8\t|  4\t|  13\t|  13\t|\n",
            " _______ _______ _______ _______ _______ _______ _______ _______ _______ _______ _______ _______ _______ _______\n"
          ]
        }
      ],
      "source": [
        "#Visualizing Grid\n",
        "print(\"\\nVisualizing Grid\\n\")\n",
        "gengrid.printgrid(grid)\n"
      ]
    },
    {
      "cell_type": "code",
      "execution_count": 37,
      "metadata": {
        "colab": {
          "base_uri": "https://localhost:8080/",
          "height": 455
        },
        "id": "WyCgG-nGRzTO",
        "outputId": "763a8ce9-548a-4427-e9c3-08fd831dd64f"
      },
      "outputs": [
        {
          "output_type": "stream",
          "name": "stdout",
          "text": [
            "\n",
            "\n",
            "HEURSISTIC APPROACH \n",
            "\n",
            "\n",
            "MODE 1\n",
            "Path taken ->  [(0, 0), (0, 1), (0, 2), (1, 2), (1, 3), (1, 4), (2, 4), (3, 4), (4, 4), (4, 5), (5, 5), (5, 6), (5, 7), (5, 8), (5, 9), (5, 10), (5, 11), (5, 12), (5, 13)]\n",
            "\n",
            "The cost to reach goal is ->  145\n",
            "Visualizing Path taken \n"
          ]
        },
        {
          "output_type": "display_data",
          "data": {
            "image/png": "[encoded data removed]",
            "text/plain": [
              "<Figure size 432x288 with 1 Axes>"
            ]
          },
          "metadata": {
            "needs_background": "light"
          }
        }
      ],
      "source": [
        "#Heuristic Mode1\n",
        "nav = Navigate()\n",
        "path, cost1 = nav.simpleappr(grid,True)\n",
        "\n",
        "print(\"\\n\\nHEURSISTIC APPROACH \\n\\n\\nMODE 1\\nPath taken -> \",path)\n",
        "print(\"\\nThe cost to reach goal is -> \",cost1)\n",
        "print(\"Visualizing Path taken \")\n",
        "plot_path(path)\n"
      ]
    },
    {
      "cell_type": "code",
      "execution_count": 38,
      "metadata": {
        "colab": {
          "base_uri": "https://localhost:8080/",
          "height": 438
        },
        "id": "uj6rYEv8R-F4",
        "outputId": "eddb9e50-9478-420b-fc04-e147631b06d4"
      },
      "outputs": [
        {
          "output_type": "stream",
          "name": "stdout",
          "text": [
            "\n",
            "HEURISTIC APPROACH\n",
            "\n",
            "\n",
            "MODE 2\n",
            "Path taken ->  [(0, 0), (1, 0), (1, 1), (2, 1), (2, 2), (3, 2), (3, 3), (3, 4), (4, 4), (4, 5), (5, 5), (5, 6), (5, 7), (5, 8), (5, 9), (5, 10), (5, 11), (5, 12), (5, 13)]\n",
            "\n",
            "The cost to reach goal is ->  56\n",
            "Visualizing Path taken \n"
          ]
        },
        {
          "output_type": "display_data",
          "data": {
            "image/png": "[encoded data removed]",
            "text/plain": [
              "<Figure size 432x288 with 1 Axes>"
            ]
          },
          "metadata": {
            "needs_background": "light"
          }
        }
      ],
      "source": [
        "#Heuristic Mode2\n",
        "\n",
        "path, cost2 = nav.simpleappr(grid,False)\n",
        "\n",
        "print(\"\\nHEURISTIC APPROACH\\n\\n\\nMODE 2\\nPath taken -> \",path)\n",
        "print(\"\\nThe cost to reach goal is -> \",cost2)\n",
        "print(\"Visualizing Path taken \")\n",
        "plot_path(path)"
      ]
    },
    {
      "cell_type": "code",
      "execution_count": 39,
      "metadata": {
        "colab": {
          "base_uri": "https://localhost:8080/"
        },
        "id": "Qy0nF41DQ88O",
        "outputId": "e09f3a3c-a336-4f74-f579-bdc5311b85c8"
      },
      "outputs": [
        {
          "output_type": "stream",
          "name": "stdout",
          "text": [
            "Number of Rows ->  6\n",
            "Number of Columns ->  14\n"
          ]
        }
      ],
      "source": [
        "import heapq\n",
        "\n",
        "class Dijkstra:\n",
        "    \n",
        "        \n",
        "    \n",
        "    def shortpath(self, grid, mode):\n",
        "        x = len(grid)-1\n",
        "        y = len(grid[0])-1\n",
        "        #print(\"val of y \",y)\n",
        "        visited = np.zeros((x+1,y+1))\n",
        "        check = np.ones((x+1,y+1))\n",
        "        \n",
        "        dist = np.zeros((x+1,y+1))\n",
        "        visited[0][0] = 1\n",
        "        #print(visited)\n",
        "        dist[0][0] = 0\n",
        "        prevloc = {}\n",
        "        \n",
        "        i = j = 0\n",
        "        path = []\n",
        "        hq = []\n",
        "        #print(type(i))\n",
        "        #checkadj(grid,i,j)\n",
        "        #if (i<x):\n",
        "        flag = True\n",
        "        # mode is to select the game mode 1 or 2\n",
        "        while (flag):\n",
        "            if(i<x): # checking for cell in next row\n",
        "                if (visited[i+1][j] == 0): # if the cell hasnt been visited earlier\n",
        "                    \n",
        "                    visited[i+1][j] = 1\n",
        "                    if(mode):\n",
        "                      dist[i+1][j] = dist[i][j] + grid[i+1][j]\n",
        "                    #                   dist        cell pos\n",
        "                    else: \n",
        "                      dist[i+1][j] = dist[i][j] + abs(grid[i][j] - grid[i+1][j])\n",
        "                    \n",
        "                    heapq.heappush(hq,(dist[i+1][j],(i+1,j) ) )\n",
        "                    #           next loc   prev cell (coming from)\n",
        "                    prevloc[(i+1,j)] = [i,j]\n",
        "                else: # if the cell was visited earlier. check previous distance from start and current distance, if better then update\n",
        "                    #a,b = prevloc[(i+1,j)]\n",
        "                    #dis1 = dist[a][b]\n",
        "                    if(mode):\n",
        "                      ds = dist[i][j] + grid[i+1][j]\n",
        "                    else:\n",
        "                      ds = dist[i][j] + abs(grid[i][j] - grid[i+1][j])\n",
        "                    if ds < dist[i+1][j]:\n",
        "                        dist[i+1][j] = ds\n",
        "                        prevloc[(i+1,j)] = [i,j]\n",
        "            \n",
        "            if (i>0):\n",
        "                if (visited[i-1][j]!=1):\n",
        "                    \n",
        "                    visited[i-1][j] = 1\n",
        "                    if(mode):\n",
        "                      dist[i-1][j] = dist[i][j] + grid[i-1][j]\n",
        "                    #                   dist        cell pos\n",
        "                    else:\n",
        "                      dist[i-1][j] = dist[i][j] + abs(grid[i][j] - grid[i-1][j])\n",
        "                    heapq.heappush(hq,(dist[i-1][j],(i-1,j) ) )\n",
        "                    #        next loc   prev cell (coming from)\n",
        "                    prevloc[(i-1,j)] = [i,j]\n",
        "                else:\n",
        "                    #a,b = prevloc[(i+1,j)]\n",
        "                    #dis1 = dist[a][b]\n",
        "                    if(mode):\n",
        "                      ds = dist[i][j] + grid[i-1][j]\n",
        "                    else:\n",
        "                      ds = dist[i][j] + abs(grid[i][j] - grid[i-1][j])\n",
        "                    if ds < dist[i-1][j]:\n",
        "                        dist[i-1][j] = ds\n",
        "                        prevloc[(i-1,j)] = [i,j]\n",
        "                \n",
        "            if (j<y):\n",
        "                #print(i,\" & \",j)\n",
        "                if (visited[i][j+1]!=1):\n",
        "                    \n",
        "                    visited[i][j+1] = 1\n",
        "                    if(mode):\n",
        "                      dist[i][j+1] = dist[i][j] + grid[i][j+1]\n",
        "                    #                   dist        cell pos\n",
        "                    else:\n",
        "                      dist[i][j+1] = dist[i][j] + abs(grid[i][j] - grid[i][j+1])\n",
        "                    heapq.heappush(hq,(dist[i][j+1],(i,j+1) ) )\n",
        "                    #        next loc   prev cell (coming from)\n",
        "                    prevloc[(i,j+1)] = [i,j]\n",
        "                else:\n",
        "                    #a,b = prevloc[(i+1,j)]\n",
        "                    #dis1 = dist[a][b]\n",
        "                    if(mode):\n",
        "                      ds = dist[i][j] + grid[i][j+1]\n",
        "                    else:\n",
        "                      ds = dist[i][j] + abs(grid[i][j] - grid[i][j+1])\n",
        "                    if ds < dist[i][j+1]:\n",
        "                        dist[i][j+1] = ds\n",
        "                        prevloc[(i,j+1)] = [i,j]\n",
        "            \n",
        "            \n",
        "            if (j>0):\n",
        "                if (visited[i][j-1]!=1):\n",
        "                    \n",
        "                    visited[i][j-1] = 1\n",
        "                    if (mode):\n",
        "                      dist[i][j-1] = dist[i][j] + grid[i][j-1]\n",
        "                    #                   dist        cell pos\n",
        "                    else:\n",
        "                      dist[i][j-1] = dist[i][j] + abs(grid[i][j] - grid[i][j-1])\n",
        "                    heapq.heappush(hq,(dist[i][j-1],(i,j-1) ) )\n",
        "                    #        next loc   prev cell (coming from)\n",
        "                    prevloc[(i,j-1)] = [i,j]\n",
        "                else:\n",
        "                    #a,b = prevloc[(i+1,j)]\n",
        "                    #dis1 = dist[a][b]\n",
        "                    if (mode):\n",
        "                      ds = dist[i][j] + grid[i][j-1]\n",
        "                    else:\n",
        "                      ds = dist[i][j] + abs(grid[i][j] - grid[i][j-1])\n",
        "                    if ds < dist[i][j-1]:\n",
        "                        dist[i][j-1] = ds\n",
        "                        prevloc[(i,j-1)] = [i,j]\n",
        "            \n",
        "            #print(dist)\n",
        "            heapq.heapify(hq)\n",
        "            if hq:\n",
        "                val = heapq.heappop(hq)\n",
        "                i,j = val[1]\n",
        "            \n",
        "            # if goal is reached exit the loop\n",
        "            if (i == len(grid) and j == len(grid[0])):\n",
        "                flag = False\n",
        "            # if all cells have been visited, exit loop\n",
        "            if (np.array_equal(check, visited)):\n",
        "              flag = False\n",
        "        #print(prevloc)\n",
        "\n",
        "        #path = []\n",
        "        path.append((x,y))\n",
        "        #print(path)\n",
        "        i = x\n",
        "        j = y\n",
        "        flag = True\n",
        "        while (flag):\n",
        "          #print(path)\n",
        "          if (i==0 and j == 0):\n",
        "            flag = False\n",
        "            continue\n",
        "          a,b = prevloc[(i,j)]\n",
        "          path.append((a,b))\n",
        "          \n",
        "          i = a\n",
        "          j = b\n",
        "        # reversing the path from the final cell to the initial cell using the data in prevloc\n",
        "        #path = path.reverse()\n",
        "        #print(path.reverse())\n",
        "        path.reverse()\n",
        "        #print(path)\n",
        "        \n",
        "        #print(\"The cost of taking the Shortest Path Using Dijkstra's Algo is \",dist[x][y])\n",
        "\n",
        "        return prevloc, path, dist[x][y]\n",
        "            \n",
        "print(\"Number of Rows -> \",len(grid))\n",
        "print(\"Number of Columns -> \",len(grid[0]))\n"
      ]
    },
    {
      "cell_type": "code",
      "execution_count": 40,
      "metadata": {
        "colab": {
          "base_uri": "https://localhost:8080/",
          "height": 489
        },
        "id": "j8pbjNUbQgcW",
        "outputId": "42fee0c6-5d46-491a-8647-e2c6641a3993"
      },
      "outputs": [
        {
          "output_type": "stream",
          "name": "stdout",
          "text": [
            "\n",
            " DIJKSTRA's ALGORITHM\n",
            "\n",
            "\n",
            "MODE 1\n",
            "\n",
            "Path Taken ->  [(0, 0), (0, 1), (0, 2), (1, 2), (1, 3), (1, 4), (2, 4), (2, 5), (2, 6), (2, 7), (3, 7), (3, 8), (3, 9), (3, 10), (4, 10), (4, 11), (5, 11), (5, 12), (5, 13)]\n",
            "\n",
            "The cost to reach goal is ->  118.0\n",
            "\n",
            "Visualizing Path \n",
            "\n"
          ]
        },
        {
          "output_type": "display_data",
          "data": {
            "image/png": "[encoded data removed]",
            "text/plain": [
              "<Figure size 432x288 with 1 Axes>"
            ]
          },
          "metadata": {
            "needs_background": "light"
          }
        }
      ],
      "source": [
        "dij = Dijkstra()\n",
        "#mode = True for Game mode 1; = False for Game mode 2\n",
        "prevloc, path, cost3 = dij.shortpath(grid, True)\n",
        "print(\"\\n DIJKSTRA's ALGORITHM\\n\\n\\nMODE 1\\n\\nPath Taken -> \", path)\n",
        "print(\"\\nThe cost to reach goal is -> \", cost3)\n",
        "print(\"\\nVisualizing Path \\n\")\n",
        "plot_path(path)\n",
        "#print(prevloc)"
      ]
    },
    {
      "cell_type": "code",
      "execution_count": 41,
      "metadata": {
        "colab": {
          "base_uri": "https://localhost:8080/",
          "height": 489
        },
        "id": "pzXAPmW4AQRh",
        "outputId": "a4a44e38-682c-4138-a59f-f5b865c8ffed"
      },
      "outputs": [
        {
          "output_type": "stream",
          "name": "stdout",
          "text": [
            "\n",
            " DIJKSTRA's ALGORITHM\n",
            "\n",
            "\n",
            "MODE 2\n",
            "\n",
            "Path Taken ->  [(0, 0), (1, 0), (1, 1), (2, 1), (2, 2), (3, 2), (3, 3), (3, 4), (3, 5), (3, 6), (3, 7), (3, 8), (3, 9), (3, 10), (3, 11), (3, 12), (4, 12), (5, 12), (5, 13)]\n",
            "\n",
            "The cost to reach goal is ->  38.0\n",
            "\n",
            "Visualizing Path \n",
            "\n"
          ]
        },
        {
          "output_type": "display_data",
          "data": {
            "image/png": "[encoded data removed]",
            "text/plain": [
              "<Figure size 432x288 with 1 Axes>"
            ]
          },
          "metadata": {
            "needs_background": "light"
          }
        }
      ],
      "source": [
        "prevloc, path, cost4 = dij.shortpath(grid, False)\n",
        "print(\"\\n DIJKSTRA's ALGORITHM\\n\\n\\nMODE 2\\n\\nPath Taken -> \", path)\n",
        "print(\"\\nThe cost to reach goal is -> \", cost4)\n",
        "print(\"\\nVisualizing Path \\n\")\n",
        "plot_path(path)\n"
      ]
    },
    {
      "cell_type": "code",
      "execution_count": 42,
      "metadata": {
        "id": "0o_uCertx-5t"
      },
      "outputs": [],
      "source": [
        "# Storing results in dataframe for analysis and visualizing \n",
        "\n",
        "row = {'Case':\"Random Nos\",'Heuristic M1': cost1, 'Heuristic M2': cost2,'Dijkstra M1': cost3, 'Dijkstra M2': cost4}\n",
        "\n",
        "\n",
        "results = results.append(row,ignore_index = True)\n",
        "\n"
      ]
    },
    {
      "cell_type": "code",
      "execution_count": 43,
      "metadata": {
        "colab": {
          "base_uri": "https://localhost:8080/"
        },
        "id": "QwsGizu7hzhI",
        "outputId": "474c8422-fd05-44f3-e5a4-bafd3518a427"
      },
      "outputs": [
        {
          "output_type": "stream",
          "name": "stdout",
          "text": [
            "Number of Rows ->  6\n",
            "Number of Columns ->  14\n",
            "Generating random grid using Uniform Distribution\n",
            "\n",
            "\n",
            "\n",
            "Visualizing Grid\n",
            "\n",
            " _______ _______ _______ _______ _______ _______ _______ _______ _______ _______ _______ _______ _______ _______\n",
            "|  5.5\t|  6.3\t|  12.0\t|  12.2\t|  12.5\t|  4.8\t|  3.1\t|  9.8\t|  4.4\t|  8.6\t|  6.2\t|  3.6\t|  5.3\t|  5.8\t|\n",
            " _______ _______ _______ _______ _______ _______ _______ _______ _______ _______ _______ _______ _______ _______\n",
            "|  5.2\t|  12.2\t|  11.9\t|  4.2\t|  3.5\t|  8.4\t|  10.3\t|  5.1\t|  8.0\t|  10.7\t|  5.9\t|  3.5\t|  8.0\t|  3.9\t|\n",
            " _______ _______ _______ _______ _______ _______ _______ _______ _______ _______ _______ _______ _______ _______\n",
            "|  3.3\t|  6.1\t|  7.8\t|  6.3\t|  5.8\t|  7.1\t|  7.4\t|  9.6\t|  9.5\t|  7.8\t|  5.4\t|  6.6\t|  12.9\t|  9.3\t|\n",
            " _______ _______ _______ _______ _______ _______ _______ _______ _______ _______ _______ _______ _______ _______\n",
            "|  8.9\t|  6.0\t|  8.6\t|  6.8\t|  7.3\t|  10.2\t|  9.9\t|  4.3\t|  9.1\t|  9.3\t|  10.5\t|  8.4\t|  7.8\t|  12.7\t|\n",
            " _______ _______ _______ _______ _______ _______ _______ _______ _______ _______ _______ _______ _______ _______\n",
            "|  4.2\t|  6.7\t|  8.9\t|  5.8\t|  3.5\t|  7.9\t|  7.3\t|  7.4\t|  7.2\t|  4.3\t|  5.3\t|  6.9\t|  7.1\t|  8.0\t|\n",
            " _______ _______ _______ _______ _______ _______ _______ _______ _______ _______ _______ _______ _______ _______\n",
            "|  11.9\t|  12.7\t|  4.8\t|  8.8\t|  4.5\t|  6.2\t|  9.6\t|  6.9\t|  7.5\t|  12.6\t|  5.2\t|  5.2\t|  4.2\t|  9.2\t|\n",
            " _______ _______ _______ _______ _______ _______ _______ _______ _______ _______ _______ _______ _______ _______\n"
          ]
        }
      ],
      "source": [
        "grid = gengrid.makegrid(2,0,0)\n",
        "\n",
        "print(\"Number of Rows -> \",len(grid))\n",
        "print(\"Number of Columns -> \",len(grid[0]))\n",
        "\n",
        "print(\"Generating random grid using Uniform Distribution\\n\\n\")#,grid)\n",
        "\n",
        "#Visualizing Grid\n",
        "print(\"\\nVisualizing Grid\\n\")\n",
        "gengrid.printgrid(grid)"
      ]
    },
    {
      "cell_type": "code",
      "execution_count": 44,
      "metadata": {
        "colab": {
          "base_uri": "https://localhost:8080/",
          "height": 856
        },
        "id": "B2yiKmFEikxd",
        "outputId": "dd83e8e4-9c0f-49bf-976b-ab655bfc395f"
      },
      "outputs": [
        {
          "output_type": "stream",
          "name": "stdout",
          "text": [
            "\n",
            "\n",
            "HEURSISTIC APPROACH \n",
            "\n",
            "\n",
            "MODE 1\n",
            "Path taken ->  [(0, 0), (1, 0), (2, 0), (2, 1), (3, 1), (4, 1), (4, 2), (5, 2), (5, 3), (5, 4), (5, 5), (5, 6), (5, 7), (5, 8), (5, 9), (5, 10), (5, 11), (5, 12), (5, 13)]\n",
            "\n",
            "The cost to reach goal is ->  120.9\n",
            "Visualizing Path taken \n"
          ]
        },
        {
          "output_type": "display_data",
          "data": {
            "image/png": "[encoded data removed]",
            "text/plain": [
              "<Figure size 432x288 with 1 Axes>"
            ]
          },
          "metadata": {
            "needs_background": "light"
          }
        },
        {
          "output_type": "stream",
          "name": "stdout",
          "text": [
            "\n",
            "HEURISTIC APPROACH\n",
            "\n",
            "\n",
            "MODE 2\n",
            "Path taken ->  [(0, 0), (1, 0), (2, 0), (2, 1), (3, 1), (4, 1), (4, 2), (4, 3), (4, 4), (5, 4), (5, 5), (5, 6), (5, 7), (5, 8), (5, 9), (5, 10), (5, 11), (5, 12), (5, 13)]\n",
            "\n",
            "The cost to reach goal is ->  41.3\n",
            "Visualizing Path taken \n"
          ]
        },
        {
          "output_type": "display_data",
          "data": {
            "image/png": "[encoded data removed]",
            "text/plain": [
              "<Figure size 432x288 with 1 Axes>"
            ]
          },
          "metadata": {
            "needs_background": "light"
          }
        }
      ],
      "source": [
        "#Heuristic Mode1\n",
        "path, cost1 = nav.simpleappr(grid,True)\n",
        "\n",
        "print(\"\\n\\nHEURSISTIC APPROACH \\n\\n\\nMODE 1\\nPath taken -> \",path)\n",
        "print(\"\\nThe cost to reach goal is -> \",cost1)\n",
        "print(\"Visualizing Path taken \")\n",
        "plot_path(path)\n",
        "\n",
        "#Heuristic Mode2\n",
        "\n",
        "path, cost2 = nav.simpleappr(grid,False)\n",
        "\n",
        "print(\"\\nHEURISTIC APPROACH\\n\\n\\nMODE 2\\nPath taken -> \",path)\n",
        "print(\"\\nThe cost to reach goal is -> \",cost2)\n",
        "print(\"Visualizing Path taken \")\n",
        "plot_path(path)"
      ]
    },
    {
      "cell_type": "code",
      "execution_count": 45,
      "metadata": {
        "colab": {
          "base_uri": "https://localhost:8080/",
          "height": 941
        },
        "id": "n6H6USsei5i6",
        "outputId": "c39030ff-ca96-4830-8dd3-a1592d7bede8"
      },
      "outputs": [
        {
          "output_type": "stream",
          "name": "stdout",
          "text": [
            "\n",
            " DIJKSTRA's ALGORITHM\n",
            "\n",
            "\n",
            "MODE 1\n",
            "\n",
            "Path Taken ->  [(0, 0), (1, 0), (2, 0), (2, 1), (3, 1), (4, 1), (4, 2), (4, 3), (4, 4), (5, 4), (5, 5), (5, 6), (5, 7), (5, 8), (5, 9), (5, 10), (5, 11), (5, 12), (5, 13)]\n",
            "\n",
            "The cost to reach goal is ->  118.0\n",
            "\n",
            "Visualizing Path \n",
            "\n"
          ]
        },
        {
          "output_type": "display_data",
          "data": {
            "image/png": "[encoded data removed]",
            "text/plain": [
              "<Figure size 432x288 with 1 Axes>"
            ]
          },
          "metadata": {
            "needs_background": "light"
          }
        },
        {
          "output_type": "stream",
          "name": "stdout",
          "text": [
            "\n",
            " DIJKSTRA's ALGORITHM\n",
            "\n",
            "\n",
            "MODE 2\n",
            "\n",
            "Path Taken ->  [(0, 0), (1, 0), (2, 0), (2, 1), (2, 2), (2, 3), (2, 4), (2, 5), (2, 6), (2, 7), (2, 8), (3, 8), (3, 9), (3, 10), (3, 11), (3, 12), (4, 12), (4, 13), (5, 13)]\n",
            "\n",
            "The cost to reach goal is ->  19.900000000000002\n",
            "\n",
            "Visualizing Path \n",
            "\n"
          ]
        },
        {
          "output_type": "display_data",
          "data": {
            "image/png": "[encoded data removed]",
            "text/plain": [
              "<Figure size 432x288 with 1 Axes>"
            ]
          },
          "metadata": {
            "needs_background": "light"
          }
        }
      ],
      "source": [
        "#mode = True for Game mode 1; = False for Game mode 2\n",
        "prevloc, path3, cost = dij.shortpath(grid, True)\n",
        "print(\"\\n DIJKSTRA's ALGORITHM\\n\\n\\nMODE 1\\n\\nPath Taken -> \", path)\n",
        "print(\"\\nThe cost to reach goal is -> \", cost3)\n",
        "print(\"\\nVisualizing Path \\n\")\n",
        "plot_path(path)\n",
        "#print(prevloc)\n",
        "\n",
        "prevloc, path, cost4 = dij.shortpath(grid, False)\n",
        "print(\"\\n DIJKSTRA's ALGORITHM\\n\\n\\nMODE 2\\n\\nPath Taken -> \", path)\n",
        "print(\"\\nThe cost to reach goal is -> \", cost4)\n",
        "print(\"\\nVisualizing Path \\n\")\n",
        "plot_path(path)\n"
      ]
    },
    {
      "cell_type": "code",
      "execution_count": 46,
      "metadata": {
        "id": "hyyAgYgTyqdz"
      },
      "outputs": [],
      "source": [
        "row = {'Case':\"Uniform Distribution\",'Heuristic M1': cost1, 'Heuristic M2': cost2,'Dijkstra M1': cost3, 'Dijkstra M2': cost4}\n",
        "\n",
        "\n",
        "results = results.append(row,ignore_index = True)\n"
      ]
    },
    {
      "cell_type": "code",
      "execution_count": 47,
      "metadata": {
        "colab": {
          "base_uri": "https://localhost:8080/"
        },
        "id": "8MOIzU-1hzeT",
        "outputId": "dfee3dda-110d-497d-e32e-f5d8af3d75f6"
      },
      "outputs": [
        {
          "output_type": "stream",
          "name": "stdout",
          "text": [
            "Number of Rows ->  6\n",
            "Number of Columns ->  14\n",
            "Generating random grid using Poisson Distribution\n",
            "\n",
            "\n",
            "\n",
            "Visualizing Grid\n",
            "\n",
            " _______ _______ _______ _______ _______ _______ _______ _______ _______ _______ _______ _______ _______ _______\n",
            "|  9\t|  10\t|  8\t|  14\t|  13\t|  5\t|  9\t|  7\t|  12\t|  9\t|  15\t|  6\t|  10\t|  10\t|\n",
            " _______ _______ _______ _______ _______ _______ _______ _______ _______ _______ _______ _______ _______ _______\n",
            "|  11\t|  14\t|  12\t|  13\t|  10\t|  11\t|  14\t|  7\t|  13\t|  12\t|  22\t|  11\t|  9\t|  12\t|\n",
            " _______ _______ _______ _______ _______ _______ _______ _______ _______ _______ _______ _______ _______ _______\n",
            "|  11\t|  7\t|  11\t|  12\t|  21\t|  13\t|  10\t|  11\t|  21\t|  9\t|  13\t|  9\t|  8\t|  11\t|\n",
            " _______ _______ _______ _______ _______ _______ _______ _______ _______ _______ _______ _______ _______ _______\n",
            "|  12\t|  15\t|  12\t|  8\t|  4\t|  8\t|  14\t|  19\t|  15\t|  7\t|  15\t|  12\t|  10\t|  12\t|\n",
            " _______ _______ _______ _______ _______ _______ _______ _______ _______ _______ _______ _______ _______ _______\n",
            "|  14\t|  18\t|  8\t|  7\t|  13\t|  13\t|  17\t|  13\t|  10\t|  15\t|  17\t|  9\t|  9\t|  12\t|\n",
            " _______ _______ _______ _______ _______ _______ _______ _______ _______ _______ _______ _______ _______ _______\n",
            "|  11\t|  13\t|  16\t|  12\t|  12\t|  12\t|  11\t|  16\t|  10\t|  11\t|  9\t|  11\t|  14\t|  11\t|\n",
            " _______ _______ _______ _______ _______ _______ _______ _______ _______ _______ _______ _______ _______ _______\n"
          ]
        }
      ],
      "source": [
        "grid = gengrid.makegrid(3,0,0)\n",
        "\n",
        "print(\"Number of Rows -> \",len(grid))\n",
        "print(\"Number of Columns -> \",len(grid[0]))\n",
        "\n",
        "print(\"Generating random grid using Poisson Distribution\\n\\n\")#,grid)\n",
        "\n",
        "#Visualizing Grid\n",
        "print(\"\\nVisualizing Grid\\n\")\n",
        "gengrid.printgrid(grid)\n"
      ]
    },
    {
      "cell_type": "code",
      "execution_count": 48,
      "metadata": {
        "colab": {
          "base_uri": "https://localhost:8080/",
          "height": 856
        },
        "id": "pwVfEEJeil_r",
        "outputId": "7a8619aa-e734-48f2-ee93-f500633c27da"
      },
      "outputs": [
        {
          "output_type": "stream",
          "name": "stdout",
          "text": [
            "\n",
            "\n",
            "HEURSISTIC APPROACH \n",
            "\n",
            "\n",
            "MODE 1\n",
            "Path taken ->  [(0, 0), (0, 1), (0, 2), (1, 2), (2, 2), (2, 3), (3, 3), (3, 4), (3, 5), (4, 5), (5, 5), (5, 6), (5, 7), (5, 8), (5, 9), (5, 10), (5, 11), (5, 12), (5, 13)]\n",
            "\n",
            "The cost to reach goal is ->  191\n",
            "Visualizing Path taken \n"
          ]
        },
        {
          "output_type": "display_data",
          "data": {
            "image/png": "[encoded data removed]",
            "text/plain": [
              "<Figure size 432x288 with 1 Axes>"
            ]
          },
          "metadata": {
            "needs_background": "light"
          }
        },
        {
          "output_type": "stream",
          "name": "stdout",
          "text": [
            "\n",
            "HEURISTIC APPROACH\n",
            "\n",
            "\n",
            "MODE 2\n",
            "Path taken ->  [(0, 0), (0, 1), (0, 2), (1, 2), (1, 3), (2, 3), (3, 3), (4, 3), (5, 3), (5, 4), (5, 5), (5, 6), (5, 7), (5, 8), (5, 9), (5, 10), (5, 11), (5, 12), (5, 13)]\n",
            "\n",
            "The cost to reach goal is ->  42\n",
            "Visualizing Path taken \n"
          ]
        },
        {
          "output_type": "display_data",
          "data": {
            "image/png": "[encoded data removed]",
            "text/plain": [
              "<Figure size 432x288 with 1 Axes>"
            ]
          },
          "metadata": {
            "needs_background": "light"
          }
        }
      ],
      "source": [
        "#Heuristic Mode1\n",
        "\n",
        "path, cost1 = nav.simpleappr(grid,True)\n",
        "\n",
        "print(\"\\n\\nHEURSISTIC APPROACH \\n\\n\\nMODE 1\\nPath taken -> \",path)\n",
        "print(\"\\nThe cost to reach goal is -> \",cost1)\n",
        "print(\"Visualizing Path taken \")\n",
        "plot_path(path)\n",
        "\n",
        "#Heuristic Mode2\n",
        "\n",
        "path, cost2 = nav.simpleappr(grid,False)\n",
        "\n",
        "print(\"\\nHEURISTIC APPROACH\\n\\n\\nMODE 2\\nPath taken -> \",path)\n",
        "print(\"\\nThe cost to reach goal is -> \",cost2)\n",
        "print(\"Visualizing Path taken \")\n",
        "plot_path(path)"
      ]
    },
    {
      "cell_type": "code",
      "execution_count": 49,
      "metadata": {
        "colab": {
          "base_uri": "https://localhost:8080/",
          "height": 941
        },
        "id": "8diWpvzWjE2E",
        "outputId": "fa540665-f2d9-43cd-84d3-8d7a5aa2a19f"
      },
      "outputs": [
        {
          "output_type": "stream",
          "name": "stdout",
          "text": [
            "\n",
            " DIJKSTRA's ALGORITHM\n",
            "\n",
            "\n",
            "MODE 1\n",
            "\n",
            "Path Taken ->  [(0, 0), (0, 1), (0, 2), (0, 3), (0, 4), (0, 5), (0, 6), (0, 7), (0, 8), (0, 9), (0, 10), (0, 11), (0, 12), (1, 12), (2, 12), (3, 12), (4, 12), (4, 13), (5, 13)]\n",
            "\n",
            "The cost to reach goal is ->  177.0\n",
            "\n",
            "Visualizing Path \n",
            "\n"
          ]
        },
        {
          "output_type": "display_data",
          "data": {
            "image/png": "[encoded data removed]",
            "text/plain": [
              "<Figure size 432x288 with 1 Axes>"
            ]
          },
          "metadata": {
            "needs_background": "light"
          }
        },
        {
          "output_type": "stream",
          "name": "stdout",
          "text": [
            "\n",
            " DIJKSTRA's ALGORITHM\n",
            "\n",
            "\n",
            "MODE 2\n",
            "\n",
            "Path Taken ->  [(0, 0), (1, 0), (2, 0), (3, 0), (4, 0), (5, 0), (5, 1), (5, 2), (5, 3), (5, 4), (5, 5), (5, 6), (5, 7), (5, 8), (5, 9), (5, 10), (5, 11), (5, 12), (5, 13)]\n",
            "\n",
            "The cost to reach goal is ->  40.0\n",
            "\n",
            "Visualizing Path \n",
            "\n"
          ]
        },
        {
          "output_type": "display_data",
          "data": {
            "image/png": "[encoded data removed]",
            "text/plain": [
              "<Figure size 432x288 with 1 Axes>"
            ]
          },
          "metadata": {
            "needs_background": "light"
          }
        }
      ],
      "source": [
        "#mode = True for Game mode 1; = False for Game mode 2\n",
        "prevloc, path, cost3 = dij.shortpath(grid, True)\n",
        "print(\"\\n DIJKSTRA's ALGORITHM\\n\\n\\nMODE 1\\n\\nPath Taken -> \", path)\n",
        "print(\"\\nThe cost to reach goal is -> \", cost3)\n",
        "print(\"\\nVisualizing Path \\n\")\n",
        "plot_path(path)\n",
        "#print(prevloc)\n",
        "\n",
        "prevloc, path, cost4 = dij.shortpath(grid, False)\n",
        "print(\"\\n DIJKSTRA's ALGORITHM\\n\\n\\nMODE 2\\n\\nPath Taken -> \", path)\n",
        "print(\"\\nThe cost to reach goal is -> \", cost4)\n",
        "print(\"\\nVisualizing Path \\n\")\n",
        "plot_path(path)\n"
      ]
    },
    {
      "cell_type": "code",
      "execution_count": 50,
      "metadata": {
        "id": "5z3Bk6ejy3v2"
      },
      "outputs": [],
      "source": [
        "row = {'Case':\"Poisson Distribution\",'Heuristic M1': cost1, 'Heuristic M2': cost2,'Dijkstra M1': cost3, 'Dijkstra M2': cost4}\n",
        "\n",
        "\n",
        "results = results.append(row,ignore_index = True)\n"
      ]
    },
    {
      "cell_type": "code",
      "execution_count": 51,
      "metadata": {
        "colab": {
          "base_uri": "https://localhost:8080/"
        },
        "id": "6UvudpTShzb6",
        "outputId": "c9b8617a-f9bc-4ca1-9582-cfbcd1b919b0"
      },
      "outputs": [
        {
          "output_type": "stream",
          "name": "stdout",
          "text": [
            "Number of Rows ->  6\n",
            "Number of Columns ->  14\n",
            "Generating random grid using Binomial Distribution\n",
            "\n",
            "\n",
            "\n",
            "Visualizing Grid\n",
            "\n",
            " _______ _______ _______ _______ _______ _______ _______ _______ _______ _______ _______ _______ _______ _______\n",
            "|  4\t|  2\t|  2\t|  4\t|  3\t|  3\t|  3\t|  1\t|  4\t|  2\t|  1\t|  3\t|  5\t|  3\t|\n",
            " _______ _______ _______ _______ _______ _______ _______ _______ _______ _______ _______ _______ _______ _______\n",
            "|  3\t|  3\t|  3\t|  2\t|  0\t|  2\t|  5\t|  1\t|  2\t|  1\t|  1\t|  1\t|  1\t|  0\t|\n",
            " _______ _______ _______ _______ _______ _______ _______ _______ _______ _______ _______ _______ _______ _______\n",
            "|  4\t|  1\t|  3\t|  5\t|  2\t|  2\t|  1\t|  2\t|  2\t|  1\t|  3\t|  5\t|  1\t|  5\t|\n",
            " _______ _______ _______ _______ _______ _______ _______ _______ _______ _______ _______ _______ _______ _______\n",
            "|  1\t|  1\t|  2\t|  5\t|  2\t|  1\t|  5\t|  3\t|  4\t|  1\t|  4\t|  3\t|  2\t|  3\t|\n",
            " _______ _______ _______ _______ _______ _______ _______ _______ _______ _______ _______ _______ _______ _______\n",
            "|  2\t|  4\t|  2\t|  3\t|  4\t|  1\t|  3\t|  2\t|  3\t|  3\t|  2\t|  5\t|  2\t|  4\t|\n",
            " _______ _______ _______ _______ _______ _______ _______ _______ _______ _______ _______ _______ _______ _______\n",
            "|  3\t|  3\t|  4\t|  3\t|  5\t|  1\t|  3\t|  2\t|  4\t|  4\t|  3\t|  1\t|  2\t|  4\t|\n",
            " _______ _______ _______ _______ _______ _______ _______ _______ _______ _______ _______ _______ _______ _______\n"
          ]
        }
      ],
      "source": [
        "grid = gengrid.makegrid(4,0,0)\n",
        "\n",
        "print(\"Number of Rows -> \",len(grid))\n",
        "print(\"Number of Columns -> \",len(grid[0]))\n",
        "\n",
        "print(\"Generating random grid using Binomial Distribution\\n\\n\")#,grid)\n",
        "\n",
        "#Visualizing Grid\n",
        "print(\"\\nVisualizing Grid\\n\")\n",
        "gengrid.printgrid(grid)"
      ]
    },
    {
      "cell_type": "code",
      "execution_count": 52,
      "metadata": {
        "colab": {
          "base_uri": "https://localhost:8080/",
          "height": 856
        },
        "id": "kF99zKW9imv7",
        "outputId": "410c72f9-7802-4cd7-a9fa-443e104e5595"
      },
      "outputs": [
        {
          "output_type": "stream",
          "name": "stdout",
          "text": [
            "\n",
            "\n",
            "HEURSISTIC APPROACH \n",
            "\n",
            "\n",
            "MODE 1\n",
            "Path taken ->  [(0, 0), (0, 1), (0, 2), (1, 2), (1, 3), (1, 4), (1, 5), (2, 5), (2, 6), (2, 7), (2, 8), (2, 9), (3, 9), (4, 9), (4, 10), (5, 10), (5, 11), (5, 12), (5, 13)]\n",
            "\n",
            "The cost to reach goal is ->  35\n",
            "Visualizing Path taken \n"
          ]
        },
        {
          "output_type": "display_data",
          "data": {
            "image/png": "[encoded data removed]",
            "text/plain": [
              "<Figure size 432x288 with 1 Axes>"
            ]
          },
          "metadata": {
            "needs_background": "light"
          }
        },
        {
          "output_type": "stream",
          "name": "stdout",
          "text": [
            "\n",
            "HEURISTIC APPROACH\n",
            "\n",
            "\n",
            "MODE 2\n",
            "Path taken ->  [(0, 0), (1, 0), (1, 1), (1, 2), (2, 2), (3, 2), (4, 2), (4, 3), (5, 3), (5, 4), (5, 5), (5, 6), (5, 7), (5, 8), (5, 9), (5, 10), (5, 11), (5, 12), (5, 13)]\n",
            "\n",
            "The cost to reach goal is ->  20\n",
            "Visualizing Path taken \n"
          ]
        },
        {
          "output_type": "display_data",
          "data": {
            "image/png": "[encoded data removed]",
            "text/plain": [
              "<Figure size 432x288 with 1 Axes>"
            ]
          },
          "metadata": {
            "needs_background": "light"
          }
        }
      ],
      "source": [
        "#Heuristic Mode1\n",
        "\n",
        "path, cost1 = nav.simpleappr(grid,True)\n",
        "\n",
        "print(\"\\n\\nHEURSISTIC APPROACH \\n\\n\\nMODE 1\\nPath taken -> \",path)\n",
        "print(\"\\nThe cost to reach goal is -> \",cost1)\n",
        "print(\"Visualizing Path taken \")\n",
        "plot_path(path)\n",
        "\n",
        "#Heuristic Mode2\n",
        "\n",
        "path, cost2 = nav.simpleappr(grid,False)\n",
        "\n",
        "print(\"\\nHEURISTIC APPROACH\\n\\n\\nMODE 2\\nPath taken -> \",path)\n",
        "print(\"\\nThe cost to reach goal is -> \",cost2)\n",
        "print(\"Visualizing Path taken \")\n",
        "plot_path(path)"
      ]
    },
    {
      "cell_type": "code",
      "execution_count": 53,
      "metadata": {
        "colab": {
          "base_uri": "https://localhost:8080/",
          "height": 941
        },
        "id": "b244aXXDhzZk",
        "outputId": "ab17cbb7-cad4-4a0d-c7e2-07305d88bbae"
      },
      "outputs": [
        {
          "output_type": "stream",
          "name": "stdout",
          "text": [
            "\n",
            " DIJKSTRA's ALGORITHM\n",
            "\n",
            "\n",
            "MODE 1\n",
            "\n",
            "Path Taken ->  [(0, 0), (0, 1), (0, 2), (1, 2), (1, 3), (1, 4), (1, 5), (1, 6), (1, 7), (1, 8), (1, 9), (1, 10), (1, 11), (1, 12), (2, 12), (3, 12), (4, 12), (5, 12), (5, 13)]\n",
            "\n",
            "The cost to reach goal is ->  34.0\n",
            "\n",
            "Visualizing Path \n",
            "\n"
          ]
        },
        {
          "output_type": "display_data",
          "data": {
            "image/png": "[encoded data removed]",
            "text/plain": [
              "<Figure size 432x288 with 1 Axes>"
            ]
          },
          "metadata": {
            "needs_background": "light"
          }
        },
        {
          "output_type": "stream",
          "name": "stdout",
          "text": [
            "\n",
            " DIJKSTRA's ALGORITHM\n",
            "\n",
            "\n",
            "MODE 2\n",
            "\n",
            "Path Taken ->  [(0, 0), (1, 0), (1, 1), (1, 2), (0, 2), (0, 3), (0, 4), (0, 5), (0, 6), (0, 7), (1, 7), (1, 8), (1, 9), (1, 10), (1, 11), (1, 12), (2, 12), (3, 12), (4, 12), (5, 12), (5, 13)]\n",
            "\n",
            "The cost to reach goal is ->  12.0\n",
            "\n",
            "Visualizing Path \n",
            "\n"
          ]
        },
        {
          "output_type": "display_data",
          "data": {
            "image/png": "[encoded data removed]",
            "text/plain": [
              "<Figure size 432x288 with 1 Axes>"
            ]
          },
          "metadata": {
            "needs_background": "light"
          }
        }
      ],
      "source": [
        "#mode = True for Game mode 1; = False for Game mode 2\n",
        "prevloc, path, cost3 = dij.shortpath(grid, True)\n",
        "print(\"\\n DIJKSTRA's ALGORITHM\\n\\n\\nMODE 1\\n\\nPath Taken -> \", path)\n",
        "print(\"\\nThe cost to reach goal is -> \", cost3)\n",
        "print(\"\\nVisualizing Path \\n\")\n",
        "plot_path(path)\n",
        "#print(prevloc)\n",
        "\n",
        "prevloc, path, cost4 = dij.shortpath(grid, False)\n",
        "print(\"\\n DIJKSTRA's ALGORITHM\\n\\n\\nMODE 2\\n\\nPath Taken -> \", path)\n",
        "print(\"\\nThe cost to reach goal is -> \", cost4)\n",
        "print(\"\\nVisualizing Path \\n\")\n",
        "plot_path(path)\n"
      ]
    },
    {
      "cell_type": "code",
      "execution_count": 54,
      "metadata": {
        "id": "2nE6ZzwFhyo-"
      },
      "outputs": [],
      "source": [
        "row = {'Case':\"Binomial Distribution\",'Heuristic M1': cost1, 'Heuristic M2': cost2,'Dijkstra M1': cost3, 'Dijkstra M2': cost4}\n",
        "\n",
        "\n",
        "results = results.append(row,ignore_index = True)\n"
      ]
    },
    {
      "cell_type": "code",
      "execution_count": 55,
      "metadata": {
        "colab": {
          "base_uri": "https://localhost:8080/"
        },
        "id": "m3Fkk_Efy_3h",
        "outputId": "f4250ee5-a6ec-4fab-93f6-1e0212860b57"
      },
      "outputs": [
        {
          "output_type": "stream",
          "name": "stdout",
          "text": [
            "                    Case Heuristic M1 Heuristic M2  Dijkstra M1  Dijkstra M2\n",
            "0             Random Nos          145           56        118.0         38.0\n",
            "1   Uniform Distribution        120.9         41.3        118.0         19.9\n",
            "2   Poisson Distribution          191           42        177.0         40.0\n",
            "3  Binomial Distribution           35           20         34.0         12.0\n"
          ]
        }
      ],
      "source": [
        "print(results)"
      ]
    },
    {
      "cell_type": "code",
      "execution_count": 56,
      "metadata": {
        "colab": {
          "base_uri": "https://localhost:8080/"
        },
        "id": "fbSkMVxa83lM",
        "outputId": "a4b4eb7c-66fa-495e-d0b1-1a4d35d0d239"
      },
      "outputs": [
        {
          "output_type": "stream",
          "name": "stdout",
          "text": [
            "Number of Rows ->  10\n",
            "Number of Columns ->  10\n",
            "\n",
            "\n",
            "HEURSISTIC APPROACH \n",
            "\n",
            "\n",
            "MODE 1\n",
            "\n",
            "The cost to reach goal is ->  135\n",
            "\n",
            "HEURISTIC APPROACH\n",
            "\n",
            "\n",
            "MODE 2\n",
            "\n",
            "The cost to reach goal is ->  69\n",
            "\n",
            " DIJKSTRA's ALGORITHM\n",
            "\n",
            "\n",
            "MODE 1\n",
            "\n",
            "The cost to reach goal is ->  122.0\n",
            "\n",
            " DIJKSTRA's ALGORITHM\n",
            "\n",
            "\n",
            "MODE 2\n",
            "\n",
            "The cost to reach goal is ->  31.0\n",
            "Number of Rows ->  11\n",
            "Number of Columns ->  11\n",
            "\n",
            "\n",
            "HEURSISTIC APPROACH \n",
            "\n",
            "\n",
            "MODE 1\n",
            "\n",
            "The cost to reach goal is ->  138\n",
            "\n",
            "HEURISTIC APPROACH\n",
            "\n",
            "\n",
            "MODE 2\n",
            "\n",
            "The cost to reach goal is ->  41\n",
            "\n",
            " DIJKSTRA's ALGORITHM\n",
            "\n",
            "\n",
            "MODE 1\n",
            "\n",
            "The cost to reach goal is ->  115.0\n",
            "\n",
            " DIJKSTRA's ALGORITHM\n",
            "\n",
            "\n",
            "MODE 2\n",
            "\n",
            "The cost to reach goal is ->  41.0\n",
            "Number of Rows ->  12\n",
            "Number of Columns ->  12\n",
            "\n",
            "\n",
            "HEURSISTIC APPROACH \n",
            "\n",
            "\n",
            "MODE 1\n",
            "\n",
            "The cost to reach goal is ->  138\n",
            "\n",
            "HEURISTIC APPROACH\n",
            "\n",
            "\n",
            "MODE 2\n",
            "\n",
            "The cost to reach goal is ->  55\n",
            "\n",
            " DIJKSTRA's ALGORITHM\n",
            "\n",
            "\n",
            "MODE 1\n",
            "\n",
            "The cost to reach goal is ->  134.0\n",
            "\n",
            " DIJKSTRA's ALGORITHM\n",
            "\n",
            "\n",
            "MODE 2\n",
            "\n",
            "The cost to reach goal is ->  41.0\n",
            "Number of Rows ->  13\n",
            "Number of Columns ->  13\n",
            "\n",
            "\n",
            "HEURSISTIC APPROACH \n",
            "\n",
            "\n",
            "MODE 1\n",
            "\n",
            "The cost to reach goal is ->  118\n",
            "\n",
            "HEURISTIC APPROACH\n",
            "\n",
            "\n",
            "MODE 2\n",
            "\n",
            "The cost to reach goal is ->  81\n",
            "\n",
            " DIJKSTRA's ALGORITHM\n",
            "\n",
            "\n",
            "MODE 1\n",
            "\n",
            "The cost to reach goal is ->  113.0\n",
            "\n",
            " DIJKSTRA's ALGORITHM\n",
            "\n",
            "\n",
            "MODE 2\n",
            "\n",
            "The cost to reach goal is ->  41.0\n",
            "Number of Rows ->  14\n",
            "Number of Columns ->  14\n",
            "\n",
            "\n",
            "HEURSISTIC APPROACH \n",
            "\n",
            "\n",
            "MODE 1\n",
            "\n",
            "The cost to reach goal is ->  155\n",
            "\n",
            "HEURISTIC APPROACH\n",
            "\n",
            "\n",
            "MODE 2\n",
            "\n",
            "The cost to reach goal is ->  64\n",
            "\n",
            " DIJKSTRA's ALGORITHM\n",
            "\n",
            "\n",
            "MODE 1\n",
            "\n",
            "The cost to reach goal is ->  144.0\n",
            "\n",
            " DIJKSTRA's ALGORITHM\n",
            "\n",
            "\n",
            "MODE 2\n",
            "\n",
            "The cost to reach goal is ->  64.0\n",
            "Number of Rows ->  15\n",
            "Number of Columns ->  15\n",
            "\n",
            "\n",
            "HEURSISTIC APPROACH \n",
            "\n",
            "\n",
            "MODE 1\n",
            "\n",
            "The cost to reach goal is ->  186\n",
            "\n",
            "HEURISTIC APPROACH\n",
            "\n",
            "\n",
            "MODE 2\n",
            "\n",
            "The cost to reach goal is ->  92\n",
            "\n",
            " DIJKSTRA's ALGORITHM\n",
            "\n",
            "\n",
            "MODE 1\n",
            "\n",
            "The cost to reach goal is ->  164.0\n",
            "\n",
            " DIJKSTRA's ALGORITHM\n",
            "\n",
            "\n",
            "MODE 2\n",
            "\n",
            "The cost to reach goal is ->  64.0\n",
            "Number of Rows ->  16\n",
            "Number of Columns ->  16\n",
            "\n",
            "\n",
            "HEURSISTIC APPROACH \n",
            "\n",
            "\n",
            "MODE 1\n",
            "\n",
            "The cost to reach goal is ->  156\n",
            "\n",
            "HEURISTIC APPROACH\n",
            "\n",
            "\n",
            "MODE 2\n",
            "\n",
            "The cost to reach goal is ->  99\n",
            "\n",
            " DIJKSTRA's ALGORITHM\n",
            "\n",
            "\n",
            "MODE 1\n",
            "\n",
            "The cost to reach goal is ->  150.0\n",
            "\n",
            " DIJKSTRA's ALGORITHM\n",
            "\n",
            "\n",
            "MODE 2\n",
            "\n",
            "The cost to reach goal is ->  57.0\n",
            "Number of Rows ->  17\n",
            "Number of Columns ->  17\n",
            "\n",
            "\n",
            "HEURSISTIC APPROACH \n",
            "\n",
            "\n",
            "MODE 1\n",
            "\n",
            "The cost to reach goal is ->  199\n",
            "\n",
            "HEURISTIC APPROACH\n",
            "\n",
            "\n",
            "MODE 2\n",
            "\n",
            "The cost to reach goal is ->  102\n",
            "\n",
            " DIJKSTRA's ALGORITHM\n",
            "\n",
            "\n",
            "MODE 1\n",
            "\n",
            "The cost to reach goal is ->  178.0\n",
            "\n",
            " DIJKSTRA's ALGORITHM\n",
            "\n",
            "\n",
            "MODE 2\n",
            "\n",
            "The cost to reach goal is ->  64.0\n",
            "Number of Rows ->  18\n",
            "Number of Columns ->  18\n",
            "\n",
            "\n",
            "HEURSISTIC APPROACH \n",
            "\n",
            "\n",
            "MODE 1\n",
            "\n",
            "The cost to reach goal is ->  238\n",
            "\n",
            "HEURISTIC APPROACH\n",
            "\n",
            "\n",
            "MODE 2\n",
            "\n",
            "The cost to reach goal is ->  72\n",
            "\n",
            " DIJKSTRA's ALGORITHM\n",
            "\n",
            "\n",
            "MODE 1\n",
            "\n",
            "The cost to reach goal is ->  214.0\n",
            "\n",
            " DIJKSTRA's ALGORITHM\n",
            "\n",
            "\n",
            "MODE 2\n",
            "\n",
            "The cost to reach goal is ->  68.0\n",
            "Number of Rows ->  19\n",
            "Number of Columns ->  19\n",
            "\n",
            "\n",
            "HEURSISTIC APPROACH \n",
            "\n",
            "\n",
            "MODE 1\n",
            "\n",
            "The cost to reach goal is ->  224\n",
            "\n",
            "HEURISTIC APPROACH\n",
            "\n",
            "\n",
            "MODE 2\n",
            "\n",
            "The cost to reach goal is ->  97\n",
            "\n",
            " DIJKSTRA's ALGORITHM\n",
            "\n",
            "\n",
            "MODE 1\n",
            "\n",
            "The cost to reach goal is ->  207.0\n",
            "\n",
            " DIJKSTRA's ALGORITHM\n",
            "\n",
            "\n",
            "MODE 2\n",
            "\n",
            "The cost to reach goal is ->  69.0\n",
            "Number of Rows ->  20\n",
            "Number of Columns ->  20\n",
            "\n",
            "\n",
            "HEURSISTIC APPROACH \n",
            "\n",
            "\n",
            "MODE 1\n",
            "\n",
            "The cost to reach goal is ->  228\n",
            "\n",
            "HEURISTIC APPROACH\n",
            "\n",
            "\n",
            "MODE 2\n",
            "\n",
            "The cost to reach goal is ->  119\n",
            "\n",
            " DIJKSTRA's ALGORITHM\n",
            "\n",
            "\n",
            "MODE 1\n",
            "\n",
            "The cost to reach goal is ->  207.0\n",
            "\n",
            " DIJKSTRA's ALGORITHM\n",
            "\n",
            "\n",
            "MODE 2\n",
            "\n",
            "The cost to reach goal is ->  81.0\n",
            "Number of Rows ->  21\n",
            "Number of Columns ->  21\n",
            "\n",
            "\n",
            "HEURSISTIC APPROACH \n",
            "\n",
            "\n",
            "MODE 1\n",
            "\n",
            "The cost to reach goal is ->  241\n",
            "\n",
            "HEURISTIC APPROACH\n",
            "\n",
            "\n",
            "MODE 2\n",
            "\n",
            "The cost to reach goal is ->  125\n",
            "\n",
            " DIJKSTRA's ALGORITHM\n",
            "\n",
            "\n",
            "MODE 1\n",
            "\n",
            "The cost to reach goal is ->  227.0\n",
            "\n",
            " DIJKSTRA's ALGORITHM\n",
            "\n",
            "\n",
            "MODE 2\n",
            "\n",
            "The cost to reach goal is ->  73.0\n",
            "Number of Rows ->  22\n",
            "Number of Columns ->  22\n",
            "\n",
            "\n",
            "HEURSISTIC APPROACH \n",
            "\n",
            "\n",
            "MODE 1\n",
            "\n",
            "The cost to reach goal is ->  285\n",
            "\n",
            "HEURISTIC APPROACH\n",
            "\n",
            "\n",
            "MODE 2\n",
            "\n",
            "The cost to reach goal is ->  97\n",
            "\n",
            " DIJKSTRA's ALGORITHM\n",
            "\n",
            "\n",
            "MODE 1\n",
            "\n",
            "The cost to reach goal is ->  250.0\n",
            "\n",
            " DIJKSTRA's ALGORITHM\n",
            "\n",
            "\n",
            "MODE 2\n",
            "\n",
            "The cost to reach goal is ->  73.0\n",
            "Number of Rows ->  23\n",
            "Number of Columns ->  23\n",
            "\n",
            "\n",
            "HEURSISTIC APPROACH \n",
            "\n",
            "\n",
            "MODE 1\n",
            "\n",
            "The cost to reach goal is ->  290\n",
            "\n",
            "HEURISTIC APPROACH\n",
            "\n",
            "\n",
            "MODE 2\n",
            "\n",
            "The cost to reach goal is ->  122\n",
            "\n",
            " DIJKSTRA's ALGORITHM\n",
            "\n",
            "\n",
            "MODE 1\n",
            "\n",
            "The cost to reach goal is ->  237.0\n",
            "\n",
            " DIJKSTRA's ALGORITHM\n",
            "\n",
            "\n",
            "MODE 2\n",
            "\n",
            "The cost to reach goal is ->  68.0\n",
            "Number of Rows ->  24\n",
            "Number of Columns ->  24\n",
            "\n",
            "\n",
            "HEURSISTIC APPROACH \n",
            "\n",
            "\n",
            "MODE 1\n",
            "\n",
            "The cost to reach goal is ->  323\n",
            "\n",
            "HEURISTIC APPROACH\n",
            "\n",
            "\n",
            "MODE 2\n",
            "\n",
            "The cost to reach goal is ->  110\n",
            "\n",
            " DIJKSTRA's ALGORITHM\n",
            "\n",
            "\n",
            "MODE 1\n",
            "\n",
            "The cost to reach goal is ->  273.0\n",
            "\n",
            " DIJKSTRA's ALGORITHM\n",
            "\n",
            "\n",
            "MODE 2\n",
            "\n",
            "The cost to reach goal is ->  94.0\n",
            "Number of Rows ->  25\n",
            "Number of Columns ->  25\n",
            "\n",
            "\n",
            "HEURSISTIC APPROACH \n",
            "\n",
            "\n",
            "MODE 1\n",
            "\n",
            "The cost to reach goal is ->  326\n",
            "\n",
            "HEURISTIC APPROACH\n",
            "\n",
            "\n",
            "MODE 2\n",
            "\n",
            "The cost to reach goal is ->  146\n",
            "\n",
            " DIJKSTRA's ALGORITHM\n",
            "\n",
            "\n",
            "MODE 1\n",
            "\n",
            "The cost to reach goal is ->  282.0\n",
            "\n",
            " DIJKSTRA's ALGORITHM\n",
            "\n",
            "\n",
            "MODE 2\n",
            "\n",
            "The cost to reach goal is ->  84.0\n",
            "Number of Rows ->  26\n",
            "Number of Columns ->  26\n",
            "\n",
            "\n",
            "HEURSISTIC APPROACH \n",
            "\n",
            "\n",
            "MODE 1\n",
            "\n",
            "The cost to reach goal is ->  321\n",
            "\n",
            "HEURISTIC APPROACH\n",
            "\n",
            "\n",
            "MODE 2\n",
            "\n",
            "The cost to reach goal is ->  129\n",
            "\n",
            " DIJKSTRA's ALGORITHM\n",
            "\n",
            "\n",
            "MODE 1\n",
            "\n",
            "The cost to reach goal is ->  293.0\n",
            "\n",
            " DIJKSTRA's ALGORITHM\n",
            "\n",
            "\n",
            "MODE 2\n",
            "\n",
            "The cost to reach goal is ->  91.0\n",
            "Number of Rows ->  27\n",
            "Number of Columns ->  27\n",
            "\n",
            "\n",
            "HEURSISTIC APPROACH \n",
            "\n",
            "\n",
            "MODE 1\n",
            "\n",
            "The cost to reach goal is ->  333\n",
            "\n",
            "HEURISTIC APPROACH\n",
            "\n",
            "\n",
            "MODE 2\n",
            "\n",
            "The cost to reach goal is ->  141\n",
            "\n",
            " DIJKSTRA's ALGORITHM\n",
            "\n",
            "\n",
            "MODE 1\n",
            "\n",
            "The cost to reach goal is ->  289.0\n",
            "\n",
            " DIJKSTRA's ALGORITHM\n",
            "\n",
            "\n",
            "MODE 2\n",
            "\n",
            "The cost to reach goal is ->  83.0\n",
            "Number of Rows ->  28\n",
            "Number of Columns ->  28\n",
            "\n",
            "\n",
            "HEURSISTIC APPROACH \n",
            "\n",
            "\n",
            "MODE 1\n",
            "\n",
            "The cost to reach goal is ->  361\n",
            "\n",
            "HEURISTIC APPROACH\n",
            "\n",
            "\n",
            "MODE 2\n",
            "\n",
            "The cost to reach goal is ->  145\n",
            "\n",
            " DIJKSTRA's ALGORITHM\n",
            "\n",
            "\n",
            "MODE 1\n",
            "\n",
            "The cost to reach goal is ->  295.0\n",
            "\n",
            " DIJKSTRA's ALGORITHM\n",
            "\n",
            "\n",
            "MODE 2\n",
            "\n",
            "The cost to reach goal is ->  103.0\n",
            "Number of Rows ->  29\n",
            "Number of Columns ->  29\n",
            "\n",
            "\n",
            "HEURSISTIC APPROACH \n",
            "\n",
            "\n",
            "MODE 1\n",
            "\n",
            "The cost to reach goal is ->  353\n",
            "\n",
            "HEURISTIC APPROACH\n",
            "\n",
            "\n",
            "MODE 2\n",
            "\n",
            "The cost to reach goal is ->  166\n",
            "\n",
            " DIJKSTRA's ALGORITHM\n",
            "\n",
            "\n",
            "MODE 1\n",
            "\n",
            "The cost to reach goal is ->  294.0\n",
            "\n",
            " DIJKSTRA's ALGORITHM\n",
            "\n",
            "\n",
            "MODE 2\n",
            "\n",
            "The cost to reach goal is ->  98.0\n"
          ]
        }
      ],
      "source": [
        "# checking performance for size of the grid\n",
        "x = 10\n",
        "y = 10\n",
        "\n",
        "for i in range (0,20):\n",
        "\n",
        "  #print(\"X \", x,\" & Y \",y)\n",
        "  grid = gengrid.makegrid(9,x,y)\n",
        "\n",
        "  print(\"Number of Rows -> \",len(grid))\n",
        "  print(\"Number of Columns -> \",len(grid[0]))\n",
        "\n",
        "\n",
        "  path, cost1 = nav.simpleappr(grid,True)\n",
        "\n",
        "  print(\"\\n\\nHEURSISTIC APPROACH \\n\\n\\nMODE 1\")#\\nPath taken -> \",path)\n",
        "  print(\"\\nThe cost to reach goal is -> \",cost1)\n",
        "\n",
        "\n",
        "  #Heuristic Mode2\n",
        "\n",
        "  path, cost2 = nav.simpleappr(grid,False)\n",
        "\n",
        "  print(\"\\nHEURISTIC APPROACH\\n\\n\\nMODE 2\")#\\nPath taken -> \",path)\n",
        "  print(\"\\nThe cost to reach goal is -> \",cost2)\n",
        "\n",
        "\n",
        "  #mode = True for Game mode 1; = False for Game mode 2\n",
        "  prevloc, path, cost3 = dij.shortpath(grid, True)\n",
        "  print(\"\\n DIJKSTRA's ALGORITHM\\n\\n\\nMODE 1\")#\\n\\nPath Taken -> \", path)\n",
        "  print(\"\\nThe cost to reach goal is -> \", cost3)\n",
        "  #print(\"\\nVisualizing Path \\n\")\n",
        "  #plot_path(path)\n",
        "  #print(prevloc)\n",
        "\n",
        "  prevloc, path, cost4 = dij.shortpath(grid, False)\n",
        "  print(\"\\n DIJKSTRA's ALGORITHM\\n\\n\\nMODE 2\")#\\n\\nPath Taken -> \", path)\n",
        "  print(\"\\nThe cost to reach goal is -> \", cost4)\n",
        "  #print(\"\\nVisualizing Path \\n\")\n",
        "  #plot_path(path)\n",
        "\n",
        "  row = {'Case':\"{} X {} \".format(x,y),'Heuristic M1': cost1, 'Heuristic M2': cost2,'Dijkstra M1': cost3, 'Dijkstra M2': cost4}\n",
        "\n",
        "  results = results.append(row,ignore_index = True)\n",
        "\n",
        "  x += 1\n",
        "  y += 1\n",
        "\n",
        "\n"
      ]
    },
    {
      "cell_type": "code",
      "execution_count": 57,
      "metadata": {
        "colab": {
          "base_uri": "https://localhost:8080/"
        },
        "id": "5IDoCl74-L7_",
        "outputId": "2fde7dd1-3927-4c37-d5c6-1faad617c115"
      },
      "outputs": [
        {
          "output_type": "stream",
          "name": "stdout",
          "text": [
            "                    Case Heuristic M1 Heuristic M2  Dijkstra M1  Dijkstra M2\n",
            "0             Random Nos          145           56        118.0         38.0\n",
            "1   Uniform Distribution        120.9         41.3        118.0         19.9\n",
            "2   Poisson Distribution          191           42        177.0         40.0\n",
            "3  Binomial Distribution           35           20         34.0         12.0\n"
          ]
        }
      ],
      "source": [
        "results1 = results[0:4]\n",
        "print(results1)"
      ]
    },
    {
      "cell_type": "code",
      "source": [
        "results2 = results[4:]\n",
        "print(results2)"
      ],
      "metadata": {
        "colab": {
          "base_uri": "https://localhost:8080/"
        },
        "id": "62srga-DS3-_",
        "outputId": "0fadac24-5dd9-45d7-d29c-4944c38af097"
      },
      "execution_count": 58,
      "outputs": [
        {
          "output_type": "stream",
          "name": "stdout",
          "text": [
            "        Case Heuristic M1 Heuristic M2  Dijkstra M1  Dijkstra M2\n",
            "4   10 X 10           135           69        122.0         31.0\n",
            "5   11 X 11           138           41        115.0         41.0\n",
            "6   12 X 12           138           55        134.0         41.0\n",
            "7   13 X 13           118           81        113.0         41.0\n",
            "8   14 X 14           155           64        144.0         64.0\n",
            "9   15 X 15           186           92        164.0         64.0\n",
            "10  16 X 16           156           99        150.0         57.0\n",
            "11  17 X 17           199          102        178.0         64.0\n",
            "12  18 X 18           238           72        214.0         68.0\n",
            "13  19 X 19           224           97        207.0         69.0\n",
            "14  20 X 20           228          119        207.0         81.0\n",
            "15  21 X 21           241          125        227.0         73.0\n",
            "16  22 X 22           285           97        250.0         73.0\n",
            "17  23 X 23           290          122        237.0         68.0\n",
            "18  24 X 24           323          110        273.0         94.0\n",
            "19  25 X 25           326          146        282.0         84.0\n",
            "20  26 X 26           321          129        293.0         91.0\n",
            "21  27 X 27           333          141        289.0         83.0\n",
            "22  28 X 28           361          145        295.0        103.0\n",
            "23  29 X 29           353          166        294.0         98.0\n"
          ]
        }
      ]
    },
    {
      "cell_type": "code",
      "execution_count": 59,
      "metadata": {
        "colab": {
          "base_uri": "https://localhost:8080/",
          "height": 442
        },
        "id": "o0DOrggu27IA",
        "outputId": "56323583-b3fd-4498-f05d-e77457a16c91"
      },
      "outputs": [
        {
          "output_type": "display_data",
          "data": {
            "image/png": "[encoded data removed]",
            "text/plain": [
              "<Figure size 720x504 with 1 Axes>"
            ]
          },
          "metadata": {
            "needs_background": "light"
          }
        }
      ],
      "source": [
        "import seaborn as sns\n",
        "import matplotlib.pyplot as plt\n",
        "\n",
        "label = [\" \",\"Random\",\" \",\"Uniform\",\" \",\"Poisson\",\" \",\"Binomial\"]\n",
        "plt.figure(figsize = (10,7))\n",
        "fig = sns.lineplot(data=results1)\n",
        "fig.set_xticklabels(labels = label)\n",
        "fig.set_ylabel(ylabel = \"Cost\")\n",
        "fig.set_xlabel(xlabel = \"Distribution used for generating grid\")\n",
        "plt.show(fig)"
      ]
    },
    {
      "cell_type": "code",
      "execution_count": 60,
      "metadata": {
        "colab": {
          "base_uri": "https://localhost:8080/"
        },
        "id": "xYOTw5sm7JN0",
        "outputId": "66bf4801-1bfb-468d-b43b-ef23e92646e4"
      },
      "outputs": [
        {
          "output_type": "stream",
          "name": "stdout",
          "text": [
            "                    Case Heuristic M1  Dijkstra M1\n",
            "0             Random Nos          145        118.0\n",
            "1   Uniform Distribution        120.9        118.0\n",
            "2   Poisson Distribution          191        177.0\n",
            "3  Binomial Distribution           35         34.0\n"
          ]
        }
      ],
      "source": [
        "#Comparing performance in Mode1\n",
        "m1 = pd.DataFrame(results1[[\"Case\", \"Heuristic M1\", \"Dijkstra M1\"]])\n",
        "print(m1)"
      ]
    },
    {
      "cell_type": "code",
      "execution_count": 61,
      "metadata": {
        "colab": {
          "base_uri": "https://localhost:8080/",
          "height": 442
        },
        "id": "humoe3mB8GPg",
        "outputId": "16bedf1c-e086-42b6-c6fc-e71f9d1d9967"
      },
      "outputs": [
        {
          "output_type": "display_data",
          "data": {
            "image/png": "[encoded data removed]",
            "text/plain": [
              "<Figure size 720x504 with 1 Axes>"
            ]
          },
          "metadata": {
            "needs_background": "light"
          }
        }
      ],
      "source": [
        "\n",
        "plt.figure(figsize = (10,7))\n",
        "fig = sns.lineplot(data=m1)\n",
        "fig.set_xticklabels(labels = label)\n",
        "fig.set_ylabel(ylabel = \"Cost\")\n",
        "fig.set_xlabel(xlabel = \"Distribution used for generating grid\")\n",
        "plt.show(fig)"
      ]
    },
    {
      "cell_type": "code",
      "execution_count": 62,
      "metadata": {
        "colab": {
          "base_uri": "https://localhost:8080/"
        },
        "id": "BSO14vuL8dVy",
        "outputId": "d6395a33-808e-4dbe-bd84-875f8f328695"
      },
      "outputs": [
        {
          "output_type": "stream",
          "name": "stdout",
          "text": [
            "                    Case Heuristic M2  Dijkstra M2\n",
            "0             Random Nos           56         38.0\n",
            "1   Uniform Distribution         41.3         19.9\n",
            "2   Poisson Distribution           42         40.0\n",
            "3  Binomial Distribution           20         12.0\n"
          ]
        }
      ],
      "source": [
        "#Comparing performance in Mode2\n",
        "m2 = pd.DataFrame(results1[[\"Case\", \"Heuristic M2\", \"Dijkstra M2\"]])\n",
        "print(m2)"
      ]
    },
    {
      "cell_type": "code",
      "execution_count": 63,
      "metadata": {
        "colab": {
          "base_uri": "https://localhost:8080/",
          "height": 442
        },
        "id": "O01c1N5Z8jlV",
        "outputId": "24223036-b0ee-4b3b-a741-0562015261c2"
      },
      "outputs": [
        {
          "output_type": "display_data",
          "data": {
            "image/png": "[encoded data removed]",
            "text/plain": [
              "<Figure size 720x504 with 1 Axes>"
            ]
          },
          "metadata": {
            "needs_background": "light"
          }
        }
      ],
      "source": [
        "\n",
        "plt.figure(figsize = (10,7))\n",
        "fig = sns.lineplot(data=m2)\n",
        "fig.set_xticklabels(labels = label)\n",
        "fig.set_ylabel(ylabel = \"Cost\")\n",
        "fig.set_xlabel(xlabel = \"Distribution used for generating grid\")\n",
        "plt.show(fig)"
      ]
    },
    {
      "cell_type": "code",
      "source": [
        "\n",
        "plt.figure(figsize = (13,7))\n",
        "fig = sns.lineplot(data=results2)\n",
        "fig.axes.get_xaxis().set_ticks([])\n",
        "\n",
        "fig.set_ylabel(ylabel = \"Cost\")\n",
        "fig.set_xlabel(xlabel = \"Size of grid (Increasing rows and columns by one)\")\n",
        "plt.grid()\n",
        "plt.show(fig)\n"
      ],
      "metadata": {
        "colab": {
          "base_uri": "https://localhost:8080/",
          "height": 425
        },
        "id": "n_fueWHrTDKs",
        "outputId": "06c9f67c-bd2b-4123-949d-d3aa06e63e8a"
      },
      "execution_count": 64,
      "outputs": [
        {
          "output_type": "display_data",
          "data": {
            "image/png": "[encoded data removed]",
            "text/plain": [
              "<Figure size 936x504 with 1 Axes>"
            ]
          },
          "metadata": {
            "needs_background": "light"
          }
        }
      ]
    }
  ],
  "metadata": {
    "colab": {
      "collapsed_sections": [],
      "name": "702 t1.ipynb",
      "provenance": []
    },
    "kernelspec": {
      "display_name": "Python 3",
      "name": "python3"
    },
    "language_info": {
      "name": "python"
    }
  },
  "nbformat": 4,
  "nbformat_minor": 0
}